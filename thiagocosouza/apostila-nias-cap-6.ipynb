{
 "cells": [
  {
   "cell_type": "code",
   "execution_count": 1,
   "id": "4c499496",
   "metadata": {
    "execution": {
     "iopub.execute_input": "2025-08-27T13:59:39.976405Z",
     "iopub.status.busy": "2025-08-27T13:59:39.976113Z",
     "iopub.status.idle": "2025-08-27T13:59:43.429741Z",
     "shell.execute_reply": "2025-08-27T13:59:43.428822Z"
    },
    "papermill": {
     "duration": 3.462999,
     "end_time": "2025-08-27T13:59:43.431304",
     "exception": false,
     "start_time": "2025-08-27T13:59:39.968305",
     "status": "completed"
    },
    "tags": []
   },
   "outputs": [
    {
     "data": {
      "text/html": [
       "<div>\n",
       "<style scoped>\n",
       "    .dataframe tbody tr th:only-of-type {\n",
       "        vertical-align: middle;\n",
       "    }\n",
       "\n",
       "    .dataframe tbody tr th {\n",
       "        vertical-align: top;\n",
       "    }\n",
       "\n",
       "    .dataframe thead th {\n",
       "        text-align: right;\n",
       "    }\n",
       "</style>\n",
       "<table border=\"1\" class=\"dataframe\">\n",
       "  <thead>\n",
       "    <tr style=\"text-align: right;\">\n",
       "      <th></th>\n",
       "      <th>PassengerId</th>\n",
       "      <th>Survived</th>\n",
       "      <th>Pclass</th>\n",
       "      <th>Age</th>\n",
       "      <th>SibSp</th>\n",
       "      <th>Parch</th>\n",
       "      <th>Fare</th>\n",
       "    </tr>\n",
       "  </thead>\n",
       "  <tbody>\n",
       "    <tr>\n",
       "      <th>count</th>\n",
       "      <td>891.000000</td>\n",
       "      <td>891.000000</td>\n",
       "      <td>891.000000</td>\n",
       "      <td>714.000000</td>\n",
       "      <td>891.000000</td>\n",
       "      <td>891.000000</td>\n",
       "      <td>891.000000</td>\n",
       "    </tr>\n",
       "    <tr>\n",
       "      <th>mean</th>\n",
       "      <td>446.000000</td>\n",
       "      <td>0.383838</td>\n",
       "      <td>2.308642</td>\n",
       "      <td>29.699118</td>\n",
       "      <td>0.523008</td>\n",
       "      <td>0.381594</td>\n",
       "      <td>32.204208</td>\n",
       "    </tr>\n",
       "    <tr>\n",
       "      <th>std</th>\n",
       "      <td>257.353842</td>\n",
       "      <td>0.486592</td>\n",
       "      <td>0.836071</td>\n",
       "      <td>14.526497</td>\n",
       "      <td>1.102743</td>\n",
       "      <td>0.806057</td>\n",
       "      <td>49.693429</td>\n",
       "    </tr>\n",
       "    <tr>\n",
       "      <th>min</th>\n",
       "      <td>1.000000</td>\n",
       "      <td>0.000000</td>\n",
       "      <td>1.000000</td>\n",
       "      <td>0.420000</td>\n",
       "      <td>0.000000</td>\n",
       "      <td>0.000000</td>\n",
       "      <td>0.000000</td>\n",
       "    </tr>\n",
       "    <tr>\n",
       "      <th>25%</th>\n",
       "      <td>223.500000</td>\n",
       "      <td>0.000000</td>\n",
       "      <td>2.000000</td>\n",
       "      <td>20.125000</td>\n",
       "      <td>0.000000</td>\n",
       "      <td>0.000000</td>\n",
       "      <td>7.910400</td>\n",
       "    </tr>\n",
       "    <tr>\n",
       "      <th>50%</th>\n",
       "      <td>446.000000</td>\n",
       "      <td>0.000000</td>\n",
       "      <td>3.000000</td>\n",
       "      <td>28.000000</td>\n",
       "      <td>0.000000</td>\n",
       "      <td>0.000000</td>\n",
       "      <td>14.454200</td>\n",
       "    </tr>\n",
       "    <tr>\n",
       "      <th>75%</th>\n",
       "      <td>668.500000</td>\n",
       "      <td>1.000000</td>\n",
       "      <td>3.000000</td>\n",
       "      <td>38.000000</td>\n",
       "      <td>1.000000</td>\n",
       "      <td>0.000000</td>\n",
       "      <td>31.000000</td>\n",
       "    </tr>\n",
       "    <tr>\n",
       "      <th>max</th>\n",
       "      <td>891.000000</td>\n",
       "      <td>1.000000</td>\n",
       "      <td>3.000000</td>\n",
       "      <td>80.000000</td>\n",
       "      <td>8.000000</td>\n",
       "      <td>6.000000</td>\n",
       "      <td>512.329200</td>\n",
       "    </tr>\n",
       "  </tbody>\n",
       "</table>\n",
       "</div>"
      ],
      "text/plain": [
       "       PassengerId    Survived      Pclass         Age       SibSp  \\\n",
       "count   891.000000  891.000000  891.000000  714.000000  891.000000   \n",
       "mean    446.000000    0.383838    2.308642   29.699118    0.523008   \n",
       "std     257.353842    0.486592    0.836071   14.526497    1.102743   \n",
       "min       1.000000    0.000000    1.000000    0.420000    0.000000   \n",
       "25%     223.500000    0.000000    2.000000   20.125000    0.000000   \n",
       "50%     446.000000    0.000000    3.000000   28.000000    0.000000   \n",
       "75%     668.500000    1.000000    3.000000   38.000000    1.000000   \n",
       "max     891.000000    1.000000    3.000000   80.000000    8.000000   \n",
       "\n",
       "            Parch        Fare  \n",
       "count  891.000000  891.000000  \n",
       "mean     0.381594   32.204208  \n",
       "std      0.806057   49.693429  \n",
       "min      0.000000    0.000000  \n",
       "25%      0.000000    7.910400  \n",
       "50%      0.000000   14.454200  \n",
       "75%      0.000000   31.000000  \n",
       "max      6.000000  512.329200  "
      ]
     },
     "execution_count": 1,
     "metadata": {},
     "output_type": "execute_result"
    }
   ],
   "source": [
    "import pandas as pd\n",
    "import numpy as np\n",
    "import matplotlib.pyplot as plt\n",
    "import seaborn as sns\n",
    "%matplotlib inline\n",
    "np.random.seed(0)\n",
    "\n",
    "data_train = pd.read_csv(\"/kaggle/input/titanic/train.csv\")\n",
    "data_test = pd.read_csv(\"/kaggle/input/titanic/test.csv\")\n",
    "data_train.describe()\n",
    "\n"
   ]
  },
  {
   "cell_type": "markdown",
   "id": "6c01d0ff",
   "metadata": {
    "papermill": {
     "duration": 0.005551,
     "end_time": "2025-08-27T13:59:43.443209",
     "exception": false,
     "start_time": "2025-08-27T13:59:43.437658",
     "status": "completed"
    },
    "tags": []
   },
   "source": [
    "# Exploração do Banco de Dados\n",
    "\n"
   ]
  },
  {
   "cell_type": "code",
   "execution_count": 2,
   "id": "e0c35e2f",
   "metadata": {
    "execution": {
     "iopub.execute_input": "2025-08-27T13:59:43.456012Z",
     "iopub.status.busy": "2025-08-27T13:59:43.455710Z",
     "iopub.status.idle": "2025-08-27T13:59:43.478018Z",
     "shell.execute_reply": "2025-08-27T13:59:43.477161Z"
    },
    "papermill": {
     "duration": 0.030394,
     "end_time": "2025-08-27T13:59:43.479477",
     "exception": false,
     "start_time": "2025-08-27T13:59:43.449083",
     "status": "completed"
    },
    "tags": []
   },
   "outputs": [
    {
     "data": {
      "text/html": [
       "<div>\n",
       "<style scoped>\n",
       "    .dataframe tbody tr th:only-of-type {\n",
       "        vertical-align: middle;\n",
       "    }\n",
       "\n",
       "    .dataframe tbody tr th {\n",
       "        vertical-align: top;\n",
       "    }\n",
       "\n",
       "    .dataframe thead th {\n",
       "        text-align: right;\n",
       "    }\n",
       "</style>\n",
       "<table border=\"1\" class=\"dataframe\">\n",
       "  <thead>\n",
       "    <tr style=\"text-align: right;\">\n",
       "      <th></th>\n",
       "      <th>PassengerId</th>\n",
       "      <th>Pclass</th>\n",
       "      <th>Age</th>\n",
       "      <th>SibSp</th>\n",
       "      <th>Parch</th>\n",
       "      <th>Fare</th>\n",
       "    </tr>\n",
       "  </thead>\n",
       "  <tbody>\n",
       "    <tr>\n",
       "      <th>count</th>\n",
       "      <td>418.000000</td>\n",
       "      <td>418.000000</td>\n",
       "      <td>332.000000</td>\n",
       "      <td>418.000000</td>\n",
       "      <td>418.000000</td>\n",
       "      <td>417.000000</td>\n",
       "    </tr>\n",
       "    <tr>\n",
       "      <th>mean</th>\n",
       "      <td>1100.500000</td>\n",
       "      <td>2.265550</td>\n",
       "      <td>30.272590</td>\n",
       "      <td>0.447368</td>\n",
       "      <td>0.392344</td>\n",
       "      <td>35.627188</td>\n",
       "    </tr>\n",
       "    <tr>\n",
       "      <th>std</th>\n",
       "      <td>120.810458</td>\n",
       "      <td>0.841838</td>\n",
       "      <td>14.181209</td>\n",
       "      <td>0.896760</td>\n",
       "      <td>0.981429</td>\n",
       "      <td>55.907576</td>\n",
       "    </tr>\n",
       "    <tr>\n",
       "      <th>min</th>\n",
       "      <td>892.000000</td>\n",
       "      <td>1.000000</td>\n",
       "      <td>0.170000</td>\n",
       "      <td>0.000000</td>\n",
       "      <td>0.000000</td>\n",
       "      <td>0.000000</td>\n",
       "    </tr>\n",
       "    <tr>\n",
       "      <th>25%</th>\n",
       "      <td>996.250000</td>\n",
       "      <td>1.000000</td>\n",
       "      <td>21.000000</td>\n",
       "      <td>0.000000</td>\n",
       "      <td>0.000000</td>\n",
       "      <td>7.895800</td>\n",
       "    </tr>\n",
       "    <tr>\n",
       "      <th>50%</th>\n",
       "      <td>1100.500000</td>\n",
       "      <td>3.000000</td>\n",
       "      <td>27.000000</td>\n",
       "      <td>0.000000</td>\n",
       "      <td>0.000000</td>\n",
       "      <td>14.454200</td>\n",
       "    </tr>\n",
       "    <tr>\n",
       "      <th>75%</th>\n",
       "      <td>1204.750000</td>\n",
       "      <td>3.000000</td>\n",
       "      <td>39.000000</td>\n",
       "      <td>1.000000</td>\n",
       "      <td>0.000000</td>\n",
       "      <td>31.500000</td>\n",
       "    </tr>\n",
       "    <tr>\n",
       "      <th>max</th>\n",
       "      <td>1309.000000</td>\n",
       "      <td>3.000000</td>\n",
       "      <td>76.000000</td>\n",
       "      <td>8.000000</td>\n",
       "      <td>9.000000</td>\n",
       "      <td>512.329200</td>\n",
       "    </tr>\n",
       "  </tbody>\n",
       "</table>\n",
       "</div>"
      ],
      "text/plain": [
       "       PassengerId      Pclass         Age       SibSp       Parch        Fare\n",
       "count   418.000000  418.000000  332.000000  418.000000  418.000000  417.000000\n",
       "mean   1100.500000    2.265550   30.272590    0.447368    0.392344   35.627188\n",
       "std     120.810458    0.841838   14.181209    0.896760    0.981429   55.907576\n",
       "min     892.000000    1.000000    0.170000    0.000000    0.000000    0.000000\n",
       "25%     996.250000    1.000000   21.000000    0.000000    0.000000    7.895800\n",
       "50%    1100.500000    3.000000   27.000000    0.000000    0.000000   14.454200\n",
       "75%    1204.750000    3.000000   39.000000    1.000000    0.000000   31.500000\n",
       "max    1309.000000    3.000000   76.000000    8.000000    9.000000  512.329200"
      ]
     },
     "execution_count": 2,
     "metadata": {},
     "output_type": "execute_result"
    }
   ],
   "source": [
    "data_test.describe()\n"
   ]
  },
  {
   "cell_type": "code",
   "execution_count": 3,
   "id": "d7f9e061",
   "metadata": {
    "execution": {
     "iopub.execute_input": "2025-08-27T13:59:43.493106Z",
     "iopub.status.busy": "2025-08-27T13:59:43.492797Z",
     "iopub.status.idle": "2025-08-27T13:59:43.511459Z",
     "shell.execute_reply": "2025-08-27T13:59:43.510562Z"
    },
    "papermill": {
     "duration": 0.02693,
     "end_time": "2025-08-27T13:59:43.512789",
     "exception": false,
     "start_time": "2025-08-27T13:59:43.485859",
     "status": "completed"
    },
    "tags": []
   },
   "outputs": [
    {
     "name": "stdout",
     "output_type": "stream",
     "text": [
      "<class 'pandas.core.frame.DataFrame'>\n",
      "RangeIndex: 891 entries, 0 to 890\n",
      "Data columns (total 12 columns):\n",
      " #   Column       Non-Null Count  Dtype  \n",
      "---  ------       --------------  -----  \n",
      " 0   PassengerId  891 non-null    int64  \n",
      " 1   Survived     891 non-null    int64  \n",
      " 2   Pclass       891 non-null    int64  \n",
      " 3   Name         891 non-null    object \n",
      " 4   Sex          891 non-null    object \n",
      " 5   Age          714 non-null    float64\n",
      " 6   SibSp        891 non-null    int64  \n",
      " 7   Parch        891 non-null    int64  \n",
      " 8   Ticket       891 non-null    object \n",
      " 9   Fare         891 non-null    float64\n",
      " 10  Cabin        204 non-null    object \n",
      " 11  Embarked     889 non-null    object \n",
      "dtypes: float64(2), int64(5), object(5)\n",
      "memory usage: 83.7+ KB\n"
     ]
    }
   ],
   "source": [
    "data_train.info()\n"
   ]
  },
  {
   "cell_type": "code",
   "execution_count": 4,
   "id": "d1a1bf2b",
   "metadata": {
    "execution": {
     "iopub.execute_input": "2025-08-27T13:59:43.526573Z",
     "iopub.status.busy": "2025-08-27T13:59:43.525812Z",
     "iopub.status.idle": "2025-08-27T13:59:43.538387Z",
     "shell.execute_reply": "2025-08-27T13:59:43.537507Z"
    },
    "papermill": {
     "duration": 0.0208,
     "end_time": "2025-08-27T13:59:43.539789",
     "exception": false,
     "start_time": "2025-08-27T13:59:43.518989",
     "status": "completed"
    },
    "tags": []
   },
   "outputs": [
    {
     "data": {
      "text/html": [
       "<div>\n",
       "<style scoped>\n",
       "    .dataframe tbody tr th:only-of-type {\n",
       "        vertical-align: middle;\n",
       "    }\n",
       "\n",
       "    .dataframe tbody tr th {\n",
       "        vertical-align: top;\n",
       "    }\n",
       "\n",
       "    .dataframe thead th {\n",
       "        text-align: right;\n",
       "    }\n",
       "</style>\n",
       "<table border=\"1\" class=\"dataframe\">\n",
       "  <thead>\n",
       "    <tr style=\"text-align: right;\">\n",
       "      <th></th>\n",
       "      <th>PassengerId</th>\n",
       "      <th>Survived</th>\n",
       "      <th>Pclass</th>\n",
       "      <th>Name</th>\n",
       "      <th>Sex</th>\n",
       "      <th>Age</th>\n",
       "      <th>SibSp</th>\n",
       "      <th>Parch</th>\n",
       "      <th>Ticket</th>\n",
       "      <th>Fare</th>\n",
       "      <th>Cabin</th>\n",
       "      <th>Embarked</th>\n",
       "    </tr>\n",
       "  </thead>\n",
       "  <tbody>\n",
       "    <tr>\n",
       "      <th>0</th>\n",
       "      <td>1</td>\n",
       "      <td>0</td>\n",
       "      <td>3</td>\n",
       "      <td>Braund, Mr. Owen Harris</td>\n",
       "      <td>male</td>\n",
       "      <td>22.0</td>\n",
       "      <td>1</td>\n",
       "      <td>0</td>\n",
       "      <td>A/5 21171</td>\n",
       "      <td>7.2500</td>\n",
       "      <td>NaN</td>\n",
       "      <td>S</td>\n",
       "    </tr>\n",
       "    <tr>\n",
       "      <th>1</th>\n",
       "      <td>2</td>\n",
       "      <td>1</td>\n",
       "      <td>1</td>\n",
       "      <td>Cumings, Mrs. John Bradley (Florence Briggs Th...</td>\n",
       "      <td>female</td>\n",
       "      <td>38.0</td>\n",
       "      <td>1</td>\n",
       "      <td>0</td>\n",
       "      <td>PC 17599</td>\n",
       "      <td>71.2833</td>\n",
       "      <td>C85</td>\n",
       "      <td>C</td>\n",
       "    </tr>\n",
       "    <tr>\n",
       "      <th>2</th>\n",
       "      <td>3</td>\n",
       "      <td>1</td>\n",
       "      <td>3</td>\n",
       "      <td>Heikkinen, Miss. Laina</td>\n",
       "      <td>female</td>\n",
       "      <td>26.0</td>\n",
       "      <td>0</td>\n",
       "      <td>0</td>\n",
       "      <td>STON/O2. 3101282</td>\n",
       "      <td>7.9250</td>\n",
       "      <td>NaN</td>\n",
       "      <td>S</td>\n",
       "    </tr>\n",
       "    <tr>\n",
       "      <th>3</th>\n",
       "      <td>4</td>\n",
       "      <td>1</td>\n",
       "      <td>1</td>\n",
       "      <td>Futrelle, Mrs. Jacques Heath (Lily May Peel)</td>\n",
       "      <td>female</td>\n",
       "      <td>35.0</td>\n",
       "      <td>1</td>\n",
       "      <td>0</td>\n",
       "      <td>113803</td>\n",
       "      <td>53.1000</td>\n",
       "      <td>C123</td>\n",
       "      <td>S</td>\n",
       "    </tr>\n",
       "    <tr>\n",
       "      <th>4</th>\n",
       "      <td>5</td>\n",
       "      <td>0</td>\n",
       "      <td>3</td>\n",
       "      <td>Allen, Mr. William Henry</td>\n",
       "      <td>male</td>\n",
       "      <td>35.0</td>\n",
       "      <td>0</td>\n",
       "      <td>0</td>\n",
       "      <td>373450</td>\n",
       "      <td>8.0500</td>\n",
       "      <td>NaN</td>\n",
       "      <td>S</td>\n",
       "    </tr>\n",
       "  </tbody>\n",
       "</table>\n",
       "</div>"
      ],
      "text/plain": [
       "   PassengerId  Survived  Pclass  \\\n",
       "0            1         0       3   \n",
       "1            2         1       1   \n",
       "2            3         1       3   \n",
       "3            4         1       1   \n",
       "4            5         0       3   \n",
       "\n",
       "                                                Name     Sex   Age  SibSp  \\\n",
       "0                            Braund, Mr. Owen Harris    male  22.0      1   \n",
       "1  Cumings, Mrs. John Bradley (Florence Briggs Th...  female  38.0      1   \n",
       "2                             Heikkinen, Miss. Laina  female  26.0      0   \n",
       "3       Futrelle, Mrs. Jacques Heath (Lily May Peel)  female  35.0      1   \n",
       "4                           Allen, Mr. William Henry    male  35.0      0   \n",
       "\n",
       "   Parch            Ticket     Fare Cabin Embarked  \n",
       "0      0         A/5 21171   7.2500   NaN        S  \n",
       "1      0          PC 17599  71.2833   C85        C  \n",
       "2      0  STON/O2. 3101282   7.9250   NaN        S  \n",
       "3      0            113803  53.1000  C123        S  \n",
       "4      0            373450   8.0500   NaN        S  "
      ]
     },
     "execution_count": 4,
     "metadata": {},
     "output_type": "execute_result"
    }
   ],
   "source": [
    "data_train.head()\n"
   ]
  },
  {
   "cell_type": "markdown",
   "id": "19583e3c",
   "metadata": {
    "papermill": {
     "duration": 0.005804,
     "end_time": "2025-08-27T13:59:43.552036",
     "exception": false,
     "start_time": "2025-08-27T13:59:43.546232",
     "status": "completed"
    },
    "tags": []
   },
   "source": [
    "Analisando as variaveis e suas observações, temos:\n",
    "## Variáveis numéricas:\n",
    "1. Age(discreta)\n",
    "2. SibSp (discreta)\n",
    "3. Parch(discreta)\n",
    "4. Fare(contínua)\n",
    "## Categóricas: \n",
    "1. Survived\n",
    "2. Pclass(1,2 ou 3)\n",
    "3. Sex\n",
    "4. Embarked\n",
    "## Outras: \n",
    "1. PassengerID(index do df)\n",
    "2. Ticket\n",
    "3. Name\n",
    "4. Cabin"
   ]
  },
  {
   "cell_type": "code",
   "execution_count": 5,
   "id": "96979907",
   "metadata": {
    "execution": {
     "iopub.execute_input": "2025-08-27T13:59:43.566114Z",
     "iopub.status.busy": "2025-08-27T13:59:43.565724Z",
     "iopub.status.idle": "2025-08-27T13:59:43.574491Z",
     "shell.execute_reply": "2025-08-27T13:59:43.573722Z"
    },
    "papermill": {
     "duration": 0.01718,
     "end_time": "2025-08-27T13:59:43.576027",
     "exception": false,
     "start_time": "2025-08-27T13:59:43.558847",
     "status": "completed"
    },
    "tags": []
   },
   "outputs": [
    {
     "data": {
      "text/plain": [
       "PassengerId      0\n",
       "Survived         0\n",
       "Pclass           0\n",
       "Name             0\n",
       "Sex              0\n",
       "Age            177\n",
       "SibSp            0\n",
       "Parch            0\n",
       "Ticket           0\n",
       "Fare             0\n",
       "Cabin          687\n",
       "Embarked         2\n",
       "dtype: int64"
      ]
     },
     "execution_count": 5,
     "metadata": {},
     "output_type": "execute_result"
    }
   ],
   "source": [
    "data_train.isnull().sum()"
   ]
  },
  {
   "cell_type": "markdown",
   "id": "afde695e",
   "metadata": {
    "papermill": {
     "duration": 0.005958,
     "end_time": "2025-08-27T13:59:43.588424",
     "exception": false,
     "start_time": "2025-08-27T13:59:43.582466",
     "status": "completed"
    },
    "tags": []
   },
   "source": [
    "Observamos acima que das variaveis numericas a unica que possui valores em branco é a coluna Age."
   ]
  },
  {
   "cell_type": "markdown",
   "id": "0fd454ed",
   "metadata": {
    "papermill": {
     "duration": 0.006094,
     "end_time": "2025-08-27T13:59:43.601269",
     "exception": false,
     "start_time": "2025-08-27T13:59:43.595175",
     "status": "completed"
    },
    "tags": []
   },
   "source": [
    "# Limpando os dataframes\n",
    "Como usaremos apenas variaveis numéricas, selecionaremos apeanas as colunas Age, SibSp, Parch, Fare."
   ]
  },
  {
   "cell_type": "code",
   "execution_count": 6,
   "id": "1c0a04bd",
   "metadata": {
    "execution": {
     "iopub.execute_input": "2025-08-27T13:59:43.615228Z",
     "iopub.status.busy": "2025-08-27T13:59:43.614610Z",
     "iopub.status.idle": "2025-08-27T13:59:43.626258Z",
     "shell.execute_reply": "2025-08-27T13:59:43.625192Z"
    },
    "papermill": {
     "duration": 0.020165,
     "end_time": "2025-08-27T13:59:43.627735",
     "exception": false,
     "start_time": "2025-08-27T13:59:43.607570",
     "status": "completed"
    },
    "tags": []
   },
   "outputs": [],
   "source": [
    "\n",
    "filtro_train=['Age','SibSp', 'Parch', 'Fare','Survived']\n",
    "filtro_test= ['Age','SibSp', 'Parch', 'Fare']\n",
    "\n",
    "train=data_train[filtro_train].dropna()\n",
    "test=data_test[filtro_test].fillna(0)\n"
   ]
  },
  {
   "cell_type": "markdown",
   "id": "d3fdc78a",
   "metadata": {
    "papermill": {
     "duration": 0.00595,
     "end_time": "2025-08-27T13:59:43.640474",
     "exception": false,
     "start_time": "2025-08-27T13:59:43.634524",
     "status": "completed"
    },
    "tags": []
   },
   "source": [
    "# 6.2 Exploração do banco de dados\n",
    "**Objetivo**: Visualizar a influência das features nas taxas de sobrevivência. Para isso, serão\n",
    "criados gráficos com sns.barplot, que comparam médias de sobrevivência para diferentes faixas\n",
    "ou categorias."
   ]
  },
  {
   "cell_type": "markdown",
   "id": "726a0b15",
   "metadata": {
    "papermill": {
     "duration": 0.005829,
     "end_time": "2025-08-27T13:59:43.652481",
     "exception": false,
     "start_time": "2025-08-27T13:59:43.646652",
     "status": "completed"
    },
    "tags": []
   },
   "source": [
    "### 1. Idade:"
   ]
  },
  {
   "cell_type": "code",
   "execution_count": 7,
   "id": "144ab5d1",
   "metadata": {
    "execution": {
     "iopub.execute_input": "2025-08-27T13:59:43.666297Z",
     "iopub.status.busy": "2025-08-27T13:59:43.666000Z",
     "iopub.status.idle": "2025-08-27T13:59:44.207554Z",
     "shell.execute_reply": "2025-08-27T13:59:44.206716Z"
    },
    "papermill": {
     "duration": 0.550319,
     "end_time": "2025-08-27T13:59:44.208914",
     "exception": false,
     "start_time": "2025-08-27T13:59:43.658595",
     "status": "completed"
    },
    "tags": []
   },
   "outputs": [
    {
     "name": "stderr",
     "output_type": "stream",
     "text": [
      "/usr/local/lib/python3.11/dist-packages/seaborn/categorical.py:641: FutureWarning: The default of observed=False is deprecated and will be changed to True in a future version of pandas. Pass observed=False to retain current behavior or observed=True to adopt the future default and silence this warning.\n",
      "  grouped_vals = vals.groupby(grouper)\n"
     ]
    },
    {
     "data": {
      "text/plain": [
       "<Axes: title={'center': 'Idade x Sobrevivência'}, xlabel='AgeGroup', ylabel='Survived'>"
      ]
     },
     "execution_count": 7,
     "metadata": {},
     "output_type": "execute_result"
    },
    {
     "data": {
      "image/png": "[encoded data removed]",
      "text/plain": [
       "<Figure size 640x480 with 1 Axes>"
      ]
     },
     "metadata": {},
     "output_type": "display_data"
    }
   ],
   "source": [
    "data_train['Age']=data_train['Age'].dropna()\n",
    "data_test['Age']=data_test['Age'].fillna(0)\n",
    "\n",
    "\n",
    "rótulos=['0-10','10-20','20-30','30-40','40-50','50-60','60-70','70+']# nomes das categorias\n",
    "bins=[0,10,20,30,40,50,60,70,np.inf] #limites dos intervalos\n",
    "data_train['AgeGroup']=pd.cut(data_train['Age'], bins, labels= rótulos)\n",
    "data_test['AgeGroup']=pd.cut(data_test['Age'], bins, labels= rótulos)\n",
    "plt.title('Idade x Sobrevivência')\n",
    "sns.barplot(x='AgeGroup', y= 'Survived',data=data_train)\n"
   ]
  },
  {
   "cell_type": "code",
   "execution_count": 8,
   "id": "f33a1d3d",
   "metadata": {
    "execution": {
     "iopub.execute_input": "2025-08-27T13:59:44.224547Z",
     "iopub.status.busy": "2025-08-27T13:59:44.223724Z",
     "iopub.status.idle": "2025-08-27T13:59:44.235116Z",
     "shell.execute_reply": "2025-08-27T13:59:44.234169Z"
    },
    "papermill": {
     "duration": 0.020812,
     "end_time": "2025-08-27T13:59:44.236845",
     "exception": false,
     "start_time": "2025-08-27T13:59:44.216033",
     "status": "completed"
    },
    "tags": []
   },
   "outputs": [],
   "source": [
    "labels2 = [\"Muito Baixo\", \"Baixo\", \"Médio\", \"Alto\", \"Muito Alto\"]\n",
    "data_train['FareGroup']=pd.cut(data_train['Fare'],5,labels2)\n"
   ]
  },
  {
   "cell_type": "code",
   "execution_count": 9,
   "id": "c0d55bcc",
   "metadata": {
    "execution": {
     "iopub.execute_input": "2025-08-27T13:59:44.252215Z",
     "iopub.status.busy": "2025-08-27T13:59:44.251920Z",
     "iopub.status.idle": "2025-08-27T13:59:44.259488Z",
     "shell.execute_reply": "2025-08-27T13:59:44.258603Z"
    },
    "papermill": {
     "duration": 0.016921,
     "end_time": "2025-08-27T13:59:44.261032",
     "exception": false,
     "start_time": "2025-08-27T13:59:44.244111",
     "status": "completed"
    },
    "tags": []
   },
   "outputs": [],
   "source": [
    "data_test['FareGroup']=pd.cut(data_test['Fare'],5,labels2)"
   ]
  },
  {
   "cell_type": "markdown",
   "id": "24c7b5a5",
   "metadata": {
    "papermill": {
     "duration": 0.006419,
     "end_time": "2025-08-27T13:59:44.274470",
     "exception": false,
     "start_time": "2025-08-27T13:59:44.268051",
     "status": "completed"
    },
    "tags": []
   },
   "source": [
    "Interpretando o gráfico acima, observamos que a maior taxa de sobrevivência é registrada na menor faixa etária (contraintuitivo?). Devemos levar em conta que os valores faltantes foram filtrados para 0, fato que influencia na estatística dos dados."
   ]
  },
  {
   "cell_type": "markdown",
   "id": "686bd2ee",
   "metadata": {
    "papermill": {
     "duration": 0.006477,
     "end_time": "2025-08-27T13:59:44.287747",
     "exception": false,
     "start_time": "2025-08-27T13:59:44.281270",
     "status": "completed"
    },
    "tags": []
   },
   "source": [
    "### 2. SibSp (irmãos/cônjuges a bordo)"
   ]
  },
  {
   "cell_type": "code",
   "execution_count": 10,
   "id": "05c8a6f7",
   "metadata": {
    "execution": {
     "iopub.execute_input": "2025-08-27T13:59:44.302423Z",
     "iopub.status.busy": "2025-08-27T13:59:44.302138Z",
     "iopub.status.idle": "2025-08-27T13:59:44.636461Z",
     "shell.execute_reply": "2025-08-27T13:59:44.635452Z"
    },
    "papermill": {
     "duration": 0.343359,
     "end_time": "2025-08-27T13:59:44.637927",
     "exception": false,
     "start_time": "2025-08-27T13:59:44.294568",
     "status": "completed"
    },
    "tags": []
   },
   "outputs": [
    {
     "data": {
      "text/plain": [
       "<Axes: title={'center': 'Irmãos/cônjuges vs Sobrevivência'}, xlabel='SibSp', ylabel='Survived'>"
      ]
     },
     "execution_count": 10,
     "metadata": {},
     "output_type": "execute_result"
    },
    {
     "data": {
      "image/png": "[encoded data removed]",
      "text/plain": [
       "<Figure size 640x480 with 1 Axes>"
      ]
     },
     "metadata": {},
     "output_type": "display_data"
    }
   ],
   "source": [
    "plt.title('Irmãos/cônjuges vs Sobrevivência')\n",
    "sns.barplot(x='SibSp', y='Survived', data=data_train)\n"
   ]
  },
  {
   "cell_type": "markdown",
   "id": "9ffc322f",
   "metadata": {
    "papermill": {
     "duration": 0.007072,
     "end_time": "2025-08-27T13:59:44.652791",
     "exception": false,
     "start_time": "2025-08-27T13:59:44.645719",
     "status": "completed"
    },
    "tags": []
   },
   "source": [
    "O gráfico mostra que a maior parte dos sobreviventes possuia entre 1 e 2 companheiros a bordo\n"
   ]
  },
  {
   "cell_type": "markdown",
   "id": "62ebe93a",
   "metadata": {
    "papermill": {
     "duration": 0.007064,
     "end_time": "2025-08-27T13:59:44.667218",
     "exception": false,
     "start_time": "2025-08-27T13:59:44.660154",
     "status": "completed"
    },
    "tags": []
   },
   "source": [
    "### 3. Parch (pais e filhos a bordo)"
   ]
  },
  {
   "cell_type": "code",
   "execution_count": 11,
   "id": "331fc463",
   "metadata": {
    "execution": {
     "iopub.execute_input": "2025-08-27T13:59:44.683073Z",
     "iopub.status.busy": "2025-08-27T13:59:44.682763Z",
     "iopub.status.idle": "2025-08-27T13:59:44.960905Z",
     "shell.execute_reply": "2025-08-27T13:59:44.960097Z"
    },
    "papermill": {
     "duration": 0.287946,
     "end_time": "2025-08-27T13:59:44.962459",
     "exception": false,
     "start_time": "2025-08-27T13:59:44.674513",
     "status": "completed"
    },
    "tags": []
   },
   "outputs": [
    {
     "data": {
      "text/plain": [
       "<Axes: xlabel='Parch', ylabel='Survived'>"
      ]
     },
     "execution_count": 11,
     "metadata": {},
     "output_type": "execute_result"
    },
    {
     "data": {
      "image/png": "[encoded data removed]",
      "text/plain": [
       "<Figure size 640x480 with 1 Axes>"
      ]
     },
     "metadata": {},
     "output_type": "display_data"
    }
   ],
   "source": [
    "sns.barplot(x='Parch', y='Survived', data=data_train)\n"
   ]
  },
  {
   "cell_type": "markdown",
   "id": "ea6ebc20",
   "metadata": {
    "papermill": {
     "duration": 0.00751,
     "end_time": "2025-08-27T13:59:44.977895",
     "exception": false,
     "start_time": "2025-08-27T13:59:44.970385",
     "status": "completed"
    },
    "tags": []
   },
   "source": [
    "Podemos concluir que pessoas com mais de 4 filhos/pais a bordo tem menos chances de sobreviver se comparado a pessoas com menos de 4 filhos."
   ]
  },
  {
   "cell_type": "markdown",
   "id": "cecb9265",
   "metadata": {
    "papermill": {
     "duration": 0.007509,
     "end_time": "2025-08-27T13:59:44.993039",
     "exception": false,
     "start_time": "2025-08-27T13:59:44.985530",
     "status": "completed"
    },
    "tags": []
   },
   "source": [
    "## 6.3 Treinamento do modelo "
   ]
  },
  {
   "cell_type": "markdown",
   "id": "0338bee6",
   "metadata": {
    "papermill": {
     "duration": 0.007363,
     "end_time": "2025-08-27T13:59:45.007923",
     "exception": false,
     "start_time": "2025-08-27T13:59:45.000560",
     "status": "completed"
    },
    "tags": []
   },
   "source": [
    "Anteriormente criamos os df's train e test, que são dados limpos e prontos para serem utilizados para a modelagem. Dessa forma:"
   ]
  },
  {
   "cell_type": "code",
   "execution_count": 12,
   "id": "d3789e71",
   "metadata": {
    "execution": {
     "iopub.execute_input": "2025-08-27T13:59:45.024255Z",
     "iopub.status.busy": "2025-08-27T13:59:45.023969Z",
     "iopub.status.idle": "2025-08-27T13:59:45.286974Z",
     "shell.execute_reply": "2025-08-27T13:59:45.286202Z"
    },
    "papermill": {
     "duration": 0.273159,
     "end_time": "2025-08-27T13:59:45.288601",
     "exception": false,
     "start_time": "2025-08-27T13:59:45.015442",
     "status": "completed"
    },
    "tags": []
   },
   "outputs": [],
   "source": [
    "from sklearn.model_selection import train_test_split\n",
    "\n",
    "X=train[['SibSp','Parch','Fare','Age']] #features\n",
    "y=train['Survived'] #target\n",
    "train_X, val_X, train_y, val_y =train_test_split(X,y, test_size=0.2, random_state=0) #separação entre treino e validação\n"
   ]
  },
  {
   "cell_type": "code",
   "execution_count": 13,
   "id": "3169bf67",
   "metadata": {
    "execution": {
     "iopub.execute_input": "2025-08-27T13:59:45.305270Z",
     "iopub.status.busy": "2025-08-27T13:59:45.304978Z",
     "iopub.status.idle": "2025-08-27T13:59:45.868180Z",
     "shell.execute_reply": "2025-08-27T13:59:45.867213Z"
    },
    "papermill": {
     "duration": 0.573247,
     "end_time": "2025-08-27T13:59:45.869717",
     "exception": false,
     "start_time": "2025-08-27T13:59:45.296470",
     "status": "completed"
    },
    "tags": []
   },
   "outputs": [
    {
     "name": "stdout",
     "output_type": "stream",
     "text": [
      "A precisão do modelo é de 65.03 %\n"
     ]
    }
   ],
   "source": [
    "from sklearn.ensemble import RandomForestClassifier\n",
    "from sklearn.metrics import accuracy_score\n",
    "rf_model= RandomForestClassifier(random_state=1)\n",
    "rf_model.fit(train_X,train_y)\n",
    "pred_y=rf_model.predict(val_X)\n",
    "accuracy=accuracy_score(val_y,pred_y)\n",
    "print('A precisão do modelo é de {:.2f} %'.format(accuracy*100))"
   ]
  },
  {
   "cell_type": "markdown",
   "id": "6157eb98",
   "metadata": {
    "papermill": {
     "duration": 0.007513,
     "end_time": "2025-08-27T13:59:45.884981",
     "exception": false,
     "start_time": "2025-08-27T13:59:45.877468",
     "status": "completed"
    },
    "tags": []
   },
   "source": [
    "### Discussão do Resultado: \n",
    "O resultado obtido foi abaixo do esperado, uma vez que o nosso modelo é um pouco mais eficiente que o acaso(considerando 50%), logo, não hágrandes vantagens em utilizá-lo ao invés de um simples chute. Podemos buscar melhorias aumentando o numero de features, tendo em vista que as variaveis categoricas nao foram utilizadas. Desse modo, temos:"
   ]
  },
  {
   "cell_type": "code",
   "execution_count": 14,
   "id": "fd9d2942",
   "metadata": {
    "execution": {
     "iopub.execute_input": "2025-08-27T13:59:45.902476Z",
     "iopub.status.busy": "2025-08-27T13:59:45.901591Z",
     "iopub.status.idle": "2025-08-27T13:59:45.909469Z",
     "shell.execute_reply": "2025-08-27T13:59:45.908630Z"
    },
    "papermill": {
     "duration": 0.01843,
     "end_time": "2025-08-27T13:59:45.911067",
     "exception": false,
     "start_time": "2025-08-27T13:59:45.892637",
     "status": "completed"
    },
    "tags": []
   },
   "outputs": [
    {
     "data": {
      "text/plain": [
       "PassengerId      0\n",
       "Survived         0\n",
       "Pclass           0\n",
       "Name             0\n",
       "Sex              0\n",
       "Age            177\n",
       "SibSp            0\n",
       "Parch            0\n",
       "Ticket           0\n",
       "Fare             0\n",
       "Cabin          687\n",
       "Embarked         2\n",
       "AgeGroup       177\n",
       "FareGroup        0\n",
       "dtype: int64"
      ]
     },
     "execution_count": 14,
     "metadata": {},
     "output_type": "execute_result"
    }
   ],
   "source": [
    "data_train.isnull().sum() #retornaremos ao dataset inicial e geraremos um novo df de treino"
   ]
  },
  {
   "cell_type": "code",
   "execution_count": 15,
   "id": "6719eb5b",
   "metadata": {
    "execution": {
     "iopub.execute_input": "2025-08-27T13:59:45.928134Z",
     "iopub.status.busy": "2025-08-27T13:59:45.927808Z",
     "iopub.status.idle": "2025-08-27T13:59:45.933756Z",
     "shell.execute_reply": "2025-08-27T13:59:45.932881Z"
    },
    "papermill": {
     "duration": 0.016303,
     "end_time": "2025-08-27T13:59:45.935307",
     "exception": false,
     "start_time": "2025-08-27T13:59:45.919004",
     "status": "completed"
    },
    "tags": []
   },
   "outputs": [],
   "source": [
    "data_train['AgeGroup']=data_train['AgeGroup'].fillna('20-30')\n",
    "data_train['Age']=data_train['Age'].fillna(data_train['Age'].median())\n"
   ]
  },
  {
   "cell_type": "markdown",
   "id": "196966c5",
   "metadata": {
    "papermill": {
     "duration": 0.00735,
     "end_time": "2025-08-27T13:59:45.950482",
     "exception": false,
     "start_time": "2025-08-27T13:59:45.943132",
     "status": "completed"
    },
    "tags": []
   },
   "source": [
    "o código acima substitui valores de idade faltantes pela média de idade dos tripulantes, com o intuito de não alterar muito a estatística dos dados."
   ]
  },
  {
   "cell_type": "code",
   "execution_count": 16,
   "id": "56367883",
   "metadata": {
    "execution": {
     "iopub.execute_input": "2025-08-27T13:59:45.967764Z",
     "iopub.status.busy": "2025-08-27T13:59:45.966937Z",
     "iopub.status.idle": "2025-08-27T13:59:45.973818Z",
     "shell.execute_reply": "2025-08-27T13:59:45.972922Z"
    },
    "papermill": {
     "duration": 0.016881,
     "end_time": "2025-08-27T13:59:45.975129",
     "exception": false,
     "start_time": "2025-08-27T13:59:45.958248",
     "status": "completed"
    },
    "tags": []
   },
   "outputs": [
    {
     "data": {
      "text/plain": [
       "Embarked\n",
       "S    644\n",
       "C    168\n",
       "Q     77\n",
       "Name: count, dtype: int64"
      ]
     },
     "execution_count": 16,
     "metadata": {},
     "output_type": "execute_result"
    }
   ],
   "source": [
    "data_train['Embarked'].value_counts()"
   ]
  },
  {
   "cell_type": "code",
   "execution_count": 17,
   "id": "2b8dd8d4",
   "metadata": {
    "execution": {
     "iopub.execute_input": "2025-08-27T13:59:46.054391Z",
     "iopub.status.busy": "2025-08-27T13:59:46.054073Z",
     "iopub.status.idle": "2025-08-27T13:59:46.062966Z",
     "shell.execute_reply": "2025-08-27T13:59:46.062147Z"
    },
    "papermill": {
     "duration": 0.019228,
     "end_time": "2025-08-27T13:59:46.064445",
     "exception": false,
     "start_time": "2025-08-27T13:59:46.045217",
     "status": "completed"
    },
    "tags": []
   },
   "outputs": [
    {
     "data": {
      "text/plain": [
       "PassengerId      0\n",
       "Survived         0\n",
       "Pclass           0\n",
       "Name             0\n",
       "Sex              0\n",
       "Age              0\n",
       "SibSp            0\n",
       "Parch            0\n",
       "Ticket           0\n",
       "Fare             0\n",
       "Cabin          687\n",
       "Embarked         0\n",
       "AgeGroup         0\n",
       "FareGroup        0\n",
       "dtype: int64"
      ]
     },
     "execution_count": 17,
     "metadata": {},
     "output_type": "execute_result"
    }
   ],
   "source": [
    "data_train['Embarked']=data_train['Embarked'].fillna('S')\n",
    "data_train.isnull().sum()"
   ]
  },
  {
   "cell_type": "code",
   "execution_count": 18,
   "id": "8ff02bfe",
   "metadata": {
    "execution": {
     "iopub.execute_input": "2025-08-27T13:59:46.083074Z",
     "iopub.status.busy": "2025-08-27T13:59:46.082278Z",
     "iopub.status.idle": "2025-08-27T13:59:46.088802Z",
     "shell.execute_reply": "2025-08-27T13:59:46.087751Z"
    },
    "papermill": {
     "duration": 0.017085,
     "end_time": "2025-08-27T13:59:46.090266",
     "exception": false,
     "start_time": "2025-08-27T13:59:46.073181",
     "status": "completed"
    },
    "tags": []
   },
   "outputs": [],
   "source": [
    "train2=data_train.drop(['Name','Ticket','Cabin','Age','Fare'],axis=1)\n",
    "test2=data_test.drop(['Name','Ticket','Cabin','Age','Fare'],axis=1)\n",
    "#test2['Fare']=test2['Fare'].fillna(test2['Fare'].mean())\n"
   ]
  },
  {
   "cell_type": "markdown",
   "id": "00d42786",
   "metadata": {
    "papermill": {
     "duration": 0.007869,
     "end_time": "2025-08-27T13:59:46.106288",
     "exception": false,
     "start_time": "2025-08-27T13:59:46.098419",
     "status": "completed"
    },
    "tags": []
   },
   "source": [
    "Quando utilizei train2 no modelo descobri que o mesmo só aceita features numéricas, e tive que aprender a transformar as colunas 'Sex' e 'Embarked' para esse tipo de variavel categorica. Utilizei o método one hot encoding (obtive um melhor resultado utilizando a coluna AgeGroup tambem)"
   ]
  },
  {
   "cell_type": "code",
   "execution_count": 19,
   "id": "e3c8a785",
   "metadata": {
    "execution": {
     "iopub.execute_input": "2025-08-27T13:59:46.124198Z",
     "iopub.status.busy": "2025-08-27T13:59:46.123358Z",
     "iopub.status.idle": "2025-08-27T13:59:46.149740Z",
     "shell.execute_reply": "2025-08-27T13:59:46.148988Z"
    },
    "papermill": {
     "duration": 0.036985,
     "end_time": "2025-08-27T13:59:46.151303",
     "exception": false,
     "start_time": "2025-08-27T13:59:46.114318",
     "status": "completed"
    },
    "tags": []
   },
   "outputs": [
    {
     "data": {
      "text/html": [
       "<div>\n",
       "<style scoped>\n",
       "    .dataframe tbody tr th:only-of-type {\n",
       "        vertical-align: middle;\n",
       "    }\n",
       "\n",
       "    .dataframe tbody tr th {\n",
       "        vertical-align: top;\n",
       "    }\n",
       "\n",
       "    .dataframe thead th {\n",
       "        text-align: right;\n",
       "    }\n",
       "</style>\n",
       "<table border=\"1\" class=\"dataframe\">\n",
       "  <thead>\n",
       "    <tr style=\"text-align: right;\">\n",
       "      <th></th>\n",
       "      <th>PassengerId</th>\n",
       "      <th>Survived</th>\n",
       "      <th>Pclass</th>\n",
       "      <th>SibSp</th>\n",
       "      <th>Parch</th>\n",
       "      <th>Sex_female</th>\n",
       "      <th>Sex_male</th>\n",
       "      <th>Embarked_C</th>\n",
       "      <th>Embarked_Q</th>\n",
       "      <th>Embarked_S</th>\n",
       "      <th>...</th>\n",
       "      <th>AgeGroup_30-40</th>\n",
       "      <th>AgeGroup_40-50</th>\n",
       "      <th>AgeGroup_50-60</th>\n",
       "      <th>AgeGroup_60-70</th>\n",
       "      <th>AgeGroup_70+</th>\n",
       "      <th>FareGroup_(-0.512, 102.466]</th>\n",
       "      <th>FareGroup_(102.466, 204.932]</th>\n",
       "      <th>FareGroup_(204.932, 307.398]</th>\n",
       "      <th>FareGroup_(307.398, 409.863]</th>\n",
       "      <th>FareGroup_(409.863, 512.329]</th>\n",
       "    </tr>\n",
       "  </thead>\n",
       "  <tbody>\n",
       "    <tr>\n",
       "      <th>0</th>\n",
       "      <td>1</td>\n",
       "      <td>0</td>\n",
       "      <td>3</td>\n",
       "      <td>1</td>\n",
       "      <td>0</td>\n",
       "      <td>False</td>\n",
       "      <td>True</td>\n",
       "      <td>False</td>\n",
       "      <td>False</td>\n",
       "      <td>True</td>\n",
       "      <td>...</td>\n",
       "      <td>False</td>\n",
       "      <td>False</td>\n",
       "      <td>False</td>\n",
       "      <td>False</td>\n",
       "      <td>False</td>\n",
       "      <td>True</td>\n",
       "      <td>False</td>\n",
       "      <td>False</td>\n",
       "      <td>False</td>\n",
       "      <td>False</td>\n",
       "    </tr>\n",
       "    <tr>\n",
       "      <th>1</th>\n",
       "      <td>2</td>\n",
       "      <td>1</td>\n",
       "      <td>1</td>\n",
       "      <td>1</td>\n",
       "      <td>0</td>\n",
       "      <td>True</td>\n",
       "      <td>False</td>\n",
       "      <td>True</td>\n",
       "      <td>False</td>\n",
       "      <td>False</td>\n",
       "      <td>...</td>\n",
       "      <td>True</td>\n",
       "      <td>False</td>\n",
       "      <td>False</td>\n",
       "      <td>False</td>\n",
       "      <td>False</td>\n",
       "      <td>True</td>\n",
       "      <td>False</td>\n",
       "      <td>False</td>\n",
       "      <td>False</td>\n",
       "      <td>False</td>\n",
       "    </tr>\n",
       "    <tr>\n",
       "      <th>2</th>\n",
       "      <td>3</td>\n",
       "      <td>1</td>\n",
       "      <td>3</td>\n",
       "      <td>0</td>\n",
       "      <td>0</td>\n",
       "      <td>True</td>\n",
       "      <td>False</td>\n",
       "      <td>False</td>\n",
       "      <td>False</td>\n",
       "      <td>True</td>\n",
       "      <td>...</td>\n",
       "      <td>False</td>\n",
       "      <td>False</td>\n",
       "      <td>False</td>\n",
       "      <td>False</td>\n",
       "      <td>False</td>\n",
       "      <td>True</td>\n",
       "      <td>False</td>\n",
       "      <td>False</td>\n",
       "      <td>False</td>\n",
       "      <td>False</td>\n",
       "    </tr>\n",
       "    <tr>\n",
       "      <th>3</th>\n",
       "      <td>4</td>\n",
       "      <td>1</td>\n",
       "      <td>1</td>\n",
       "      <td>1</td>\n",
       "      <td>0</td>\n",
       "      <td>True</td>\n",
       "      <td>False</td>\n",
       "      <td>False</td>\n",
       "      <td>False</td>\n",
       "      <td>True</td>\n",
       "      <td>...</td>\n",
       "      <td>True</td>\n",
       "      <td>False</td>\n",
       "      <td>False</td>\n",
       "      <td>False</td>\n",
       "      <td>False</td>\n",
       "      <td>True</td>\n",
       "      <td>False</td>\n",
       "      <td>False</td>\n",
       "      <td>False</td>\n",
       "      <td>False</td>\n",
       "    </tr>\n",
       "    <tr>\n",
       "      <th>4</th>\n",
       "      <td>5</td>\n",
       "      <td>0</td>\n",
       "      <td>3</td>\n",
       "      <td>0</td>\n",
       "      <td>0</td>\n",
       "      <td>False</td>\n",
       "      <td>True</td>\n",
       "      <td>False</td>\n",
       "      <td>False</td>\n",
       "      <td>True</td>\n",
       "      <td>...</td>\n",
       "      <td>True</td>\n",
       "      <td>False</td>\n",
       "      <td>False</td>\n",
       "      <td>False</td>\n",
       "      <td>False</td>\n",
       "      <td>True</td>\n",
       "      <td>False</td>\n",
       "      <td>False</td>\n",
       "      <td>False</td>\n",
       "      <td>False</td>\n",
       "    </tr>\n",
       "  </tbody>\n",
       "</table>\n",
       "<p>5 rows × 23 columns</p>\n",
       "</div>"
      ],
      "text/plain": [
       "   PassengerId  Survived  Pclass  SibSp  Parch  Sex_female  Sex_male  \\\n",
       "0            1         0       3      1      0       False      True   \n",
       "1            2         1       1      1      0        True     False   \n",
       "2            3         1       3      0      0        True     False   \n",
       "3            4         1       1      1      0        True     False   \n",
       "4            5         0       3      0      0       False      True   \n",
       "\n",
       "   Embarked_C  Embarked_Q  Embarked_S  ...  AgeGroup_30-40  AgeGroup_40-50  \\\n",
       "0       False       False        True  ...           False           False   \n",
       "1        True       False       False  ...            True           False   \n",
       "2       False       False        True  ...           False           False   \n",
       "3       False       False        True  ...            True           False   \n",
       "4       False       False        True  ...            True           False   \n",
       "\n",
       "   AgeGroup_50-60  AgeGroup_60-70  AgeGroup_70+  FareGroup_(-0.512, 102.466]  \\\n",
       "0           False           False         False                         True   \n",
       "1           False           False         False                         True   \n",
       "2           False           False         False                         True   \n",
       "3           False           False         False                         True   \n",
       "4           False           False         False                         True   \n",
       "\n",
       "   FareGroup_(102.466, 204.932]  FareGroup_(204.932, 307.398]  \\\n",
       "0                         False                         False   \n",
       "1                         False                         False   \n",
       "2                         False                         False   \n",
       "3                         False                         False   \n",
       "4                         False                         False   \n",
       "\n",
       "   FareGroup_(307.398, 409.863]  FareGroup_(409.863, 512.329]  \n",
       "0                         False                         False  \n",
       "1                         False                         False  \n",
       "2                         False                         False  \n",
       "3                         False                         False  \n",
       "4                         False                         False  \n",
       "\n",
       "[5 rows x 23 columns]"
      ]
     },
     "execution_count": 19,
     "metadata": {},
     "output_type": "execute_result"
    }
   ],
   "source": [
    "train2=pd.get_dummies(train2)\n",
    "test2=pd.get_dummies(test2)\n",
    "train2.head()"
   ]
  },
  {
   "cell_type": "markdown",
   "id": "04094ced",
   "metadata": {
    "papermill": {
     "duration": 0.008175,
     "end_time": "2025-08-27T13:59:46.168007",
     "exception": false,
     "start_time": "2025-08-27T13:59:46.159832",
     "status": "completed"
    },
    "tags": []
   },
   "source": [
    "Após o tratamento, podemos testar o modelo novamente com o novo conjunto de dados"
   ]
  },
  {
   "cell_type": "code",
   "execution_count": 20,
   "id": "4c0f53fb",
   "metadata": {
    "execution": {
     "iopub.execute_input": "2025-08-27T13:59:46.185915Z",
     "iopub.status.busy": "2025-08-27T13:59:46.185542Z",
     "iopub.status.idle": "2025-08-27T13:59:46.370562Z",
     "shell.execute_reply": "2025-08-27T13:59:46.369608Z"
    },
    "papermill": {
     "duration": 0.195749,
     "end_time": "2025-08-27T13:59:46.372124",
     "exception": false,
     "start_time": "2025-08-27T13:59:46.176375",
     "status": "completed"
    },
    "tags": []
   },
   "outputs": [
    {
     "name": "stdout",
     "output_type": "stream",
     "text": [
      "A precisão do modelo é de 82.68 %\n"
     ]
    }
   ],
   "source": [
    "X2=train2.drop(['PassengerId','Survived'],axis=1)#features\n",
    "y2=train2['Survived']#target\n",
    "train_X2, val_X2, train_y2, val_y2= train_test_split(X2,y2, test_size=0.2, random_state=0)\n",
    "rf_model.fit(train_X2,train_y2)\n",
    "pred2=rf_model.predict(val_X2)\n",
    "acc2=accuracy_score(val_y2,pred2)\n",
    "print('A precisão do modelo é de {:.2f} %'.format(acc2*100))\n"
   ]
  },
  {
   "cell_type": "markdown",
   "id": "8c2e7832",
   "metadata": {
    "papermill": {
     "duration": 0.008037,
     "end_time": "2025-08-27T13:59:46.388632",
     "exception": false,
     "start_time": "2025-08-27T13:59:46.380595",
     "status": "completed"
    },
    "tags": []
   },
   "source": [
    "### Conclusão:\n",
    "Após as melhorias propostas tivemos uma melhora significativa no desempenho do modelo, oferecendo agora uma opção muito melhor que o acaso."
   ]
  },
  {
   "cell_type": "markdown",
   "id": "19cab3b1",
   "metadata": {
    "papermill": {
     "duration": 0.007875,
     "end_time": "2025-08-27T13:59:46.404709",
     "exception": false,
     "start_time": "2025-08-27T13:59:46.396834",
     "status": "completed"
    },
    "tags": []
   },
   "source": [
    "## Submissão"
   ]
  },
  {
   "cell_type": "code",
   "execution_count": 21,
   "id": "c309c5bb",
   "metadata": {
    "execution": {
     "iopub.execute_input": "2025-08-27T13:59:46.423523Z",
     "iopub.status.busy": "2025-08-27T13:59:46.422553Z",
     "iopub.status.idle": "2025-08-27T13:59:46.617233Z",
     "shell.execute_reply": "2025-08-27T13:59:46.616484Z"
    },
    "papermill": {
     "duration": 0.205819,
     "end_time": "2025-08-27T13:59:46.618915",
     "exception": false,
     "start_time": "2025-08-27T13:59:46.413096",
     "status": "completed"
    },
    "tags": []
   },
   "outputs": [],
   "source": [
    "rf_model.fit(X2,y2)\n",
    "ids=test2['PassengerId']\n",
    "\n",
    "predictions=rf_model.predict(test2.drop('PassengerId',axis=1))\n",
    "\n",
    "output=pd.DataFrame({'PassengerId':ids,'Survived':predictions})\n",
    "output.to_csv('submission.csv', index=False)"
   ]
  }
 ],
 "metadata": {
  "kaggle": {
   "accelerator": "none",
   "dataSources": [
    {
     "databundleVersionId": 26502,
     "sourceId": 3136,
     "sourceType": "competition"
    }
   ],
   "dockerImageVersionId": 31089,
   "isGpuEnabled": false,
   "isInternetEnabled": true,
   "language": "python",
   "sourceType": "notebook"
  },
  "kernelspec": {
   "display_name": "Python 3",
   "language": "python",
   "name": "python3"
  },
  "language_info": {
   "codemirror_mode": {
    "name": "ipython",
    "version": 3
   },
   "file_extension": ".py",
   "mimetype": "text/x-python",
   "name": "python",
   "nbconvert_exporter": "python",
   "pygments_lexer": "ipython3",
   "version": "3.11.13"
  },
  "papermill": {
   "default_parameters": {},
   "duration": 12.506656,
   "end_time": "2025-08-27T13:59:47.348318",
   "environment_variables": {},
   "exception": null,
   "input_path": "__notebook__.ipynb",
   "output_path": "__notebook__.ipynb",
   "parameters": {},
   "start_time": "2025-08-27T13:59:34.841662",
   "version": "2.6.0"
  }
 },
 "nbformat": 4,
 "nbformat_minor": 5
}
