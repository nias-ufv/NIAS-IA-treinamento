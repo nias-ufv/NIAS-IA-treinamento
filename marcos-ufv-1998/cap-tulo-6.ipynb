{
 "cells": [
  {
   "cell_type": "code",
   "execution_count": 1,
   "id": "26225c7c",
   "metadata": {
    "_cell_guid": "b1076dfc-b9ad-4769-8c92-a6c4dae69d19",
    "_uuid": "8f2839f25d086af736a60e9eeb907d3b93b6e0e5",
    "execution": {
     "iopub.execute_input": "2025-08-21T02:14:16.933393Z",
     "iopub.status.busy": "2025-08-21T02:14:16.932992Z",
     "iopub.status.idle": "2025-08-21T02:14:18.986794Z",
     "shell.execute_reply": "2025-08-21T02:14:18.985573Z"
    },
    "papermill": {
     "duration": 2.066658,
     "end_time": "2025-08-21T02:14:18.988469",
     "exception": false,
     "start_time": "2025-08-21T02:14:16.921811",
     "status": "completed"
    },
    "tags": []
   },
   "outputs": [
    {
     "name": "stdout",
     "output_type": "stream",
     "text": [
      "/kaggle/input/dataset-cap-6/train.csv\n",
      "/kaggle/input/dataset-cap-6/test.csv\n",
      "/kaggle/input/dataset-cap-6/gender_submission.csv\n"
     ]
    }
   ],
   "source": [
    "# This Python 3 environment comes with many helpful analytics libraries installed\n",
    "# It is defined by the kaggle/python Docker image: https://github.com/kaggle/docker-python\n",
    "# For example, here's several helpful packages to load\n",
    "\n",
    "import numpy as np # linear algebra\n",
    "import pandas as pd # data processing, CSV file I/O (e.g. pd.read_csv)\n",
    "\n",
    "# Input data files are available in the read-only \"../input/\" directory\n",
    "# For example, running this (by clicking run or pressing Shift+Enter) will list all files under the input directory\n",
    "\n",
    "import os\n",
    "for dirname, _, filenames in os.walk('/kaggle/input'):\n",
    "    for filename in filenames:\n",
    "        print(os.path.join(dirname, filename))\n",
    "\n",
    "# You can write up to 20GB to the current directory (/kaggle/working/) that gets preserved as output when you create a version using \"Save & Run All\" \n",
    "# You can also write temporary files to /kaggle/temp/, but they won't be saved outside of the current session"
   ]
  },
  {
   "cell_type": "markdown",
   "id": "f9c00fe4",
   "metadata": {
    "papermill": {
     "duration": 0.008468,
     "end_time": "2025-08-21T02:14:19.006141",
     "exception": false,
     "start_time": "2025-08-21T02:14:18.997673",
     "status": "completed"
    },
    "tags": []
   },
   "source": [
    "**1. Importar as bibliotecas que irão ser utilizadas:**"
   ]
  },
  {
   "cell_type": "code",
   "execution_count": 2,
   "id": "4d28adf7",
   "metadata": {
    "execution": {
     "iopub.execute_input": "2025-08-21T02:14:19.026331Z",
     "iopub.status.busy": "2025-08-21T02:14:19.025296Z",
     "iopub.status.idle": "2025-08-21T02:14:21.085615Z",
     "shell.execute_reply": "2025-08-21T02:14:21.084694Z"
    },
    "papermill": {
     "duration": 2.072584,
     "end_time": "2025-08-21T02:14:21.087363",
     "exception": false,
     "start_time": "2025-08-21T02:14:19.014779",
     "status": "completed"
    },
    "tags": []
   },
   "outputs": [],
   "source": [
    "import matplotlib.pyplot as plt\n",
    "import seaborn as sns\n",
    "%matplotlib inline\n",
    "np.random.seed(0)\n"
   ]
  },
  {
   "cell_type": "markdown",
   "id": "8e42cb87",
   "metadata": {
    "papermill": {
     "duration": 0.008198,
     "end_time": "2025-08-21T02:14:21.104152",
     "exception": false,
     "start_time": "2025-08-21T02:14:21.095954",
     "status": "completed"
    },
    "tags": []
   },
   "source": [
    "import matplotlib.pyplot as plt\n",
    "- Importa o módulo pyplot da biblioteca Matplotlib, que é usada para criar gráficos estáticos, interativos e personalizados.\n",
    "\n",
    "import seaborn as sns\n",
    "- Importa a biblioteca Seaborn, que é baseada no Matplotlib e oferece uma interface mais elegante para criar gráficos estatísticos.\n",
    "\n",
    "%matplotlib inline\n",
    "- Esse é um comando mágico do Jupyter Notebook.\n",
    "- Faz com que os gráficos gerados pelo Matplotlib sejam exibidos diretamente abaixo da célula de código, dentro do notebook.\n",
    "\n",
    "np.random.seed(0)\n",
    "- Define uma semente para o gerador de números aleatórios da biblioteca NumPy.\n",
    "- Isso garante que os resultados gerados por funções como np.random.rand() ou np.random.normal() sejam reproduzíveis — ou seja, iguais toda vez que o código for executado.\n",
    "- O número 0 é arbitrário; qualquer inteiro funcionaria."
   ]
  },
  {
   "cell_type": "markdown",
   "id": "5f251019",
   "metadata": {
    "papermill": {
     "duration": 0.008379,
     "end_time": "2025-08-21T02:14:21.120893",
     "exception": false,
     "start_time": "2025-08-21T02:14:21.112514",
     "status": "completed"
    },
    "tags": []
   },
   "source": [
    "\n",
    "**2. Transformar arquivos em dataframe e gerar momentos estatísticos:   a. Importar os arquivos “kaggle/input/titanic/test.csv” e “kaggle/input/titanic/train.csv”;   b. Gerar momentos estatísticos sobre o dataframe de treino, utilizando “.describe( )”;**\n"
   ]
  },
  {
   "cell_type": "code",
   "execution_count": 3,
   "id": "f94175ea",
   "metadata": {
    "execution": {
     "iopub.execute_input": "2025-08-21T02:14:21.139777Z",
     "iopub.status.busy": "2025-08-21T02:14:21.139305Z",
     "iopub.status.idle": "2025-08-21T02:14:21.208413Z",
     "shell.execute_reply": "2025-08-21T02:14:21.207426Z"
    },
    "papermill": {
     "duration": 0.080726,
     "end_time": "2025-08-21T02:14:21.210064",
     "exception": false,
     "start_time": "2025-08-21T02:14:21.129338",
     "status": "completed"
    },
    "tags": []
   },
   "outputs": [
    {
     "data": {
      "text/html": [
       "<div>\n",
       "<style scoped>\n",
       "    .dataframe tbody tr th:only-of-type {\n",
       "        vertical-align: middle;\n",
       "    }\n",
       "\n",
       "    .dataframe tbody tr th {\n",
       "        vertical-align: top;\n",
       "    }\n",
       "\n",
       "    .dataframe thead th {\n",
       "        text-align: right;\n",
       "    }\n",
       "</style>\n",
       "<table border=\"1\" class=\"dataframe\">\n",
       "  <thead>\n",
       "    <tr style=\"text-align: right;\">\n",
       "      <th></th>\n",
       "      <th>PassengerId</th>\n",
       "      <th>Survived</th>\n",
       "      <th>Pclass</th>\n",
       "      <th>Age</th>\n",
       "      <th>SibSp</th>\n",
       "      <th>Parch</th>\n",
       "      <th>Fare</th>\n",
       "    </tr>\n",
       "  </thead>\n",
       "  <tbody>\n",
       "    <tr>\n",
       "      <th>count</th>\n",
       "      <td>891.000000</td>\n",
       "      <td>891.000000</td>\n",
       "      <td>891.000000</td>\n",
       "      <td>714.000000</td>\n",
       "      <td>891.000000</td>\n",
       "      <td>891.000000</td>\n",
       "      <td>891.000000</td>\n",
       "    </tr>\n",
       "    <tr>\n",
       "      <th>mean</th>\n",
       "      <td>446.000000</td>\n",
       "      <td>0.383838</td>\n",
       "      <td>2.308642</td>\n",
       "      <td>29.699118</td>\n",
       "      <td>0.523008</td>\n",
       "      <td>0.381594</td>\n",
       "      <td>32.204208</td>\n",
       "    </tr>\n",
       "    <tr>\n",
       "      <th>std</th>\n",
       "      <td>257.353842</td>\n",
       "      <td>0.486592</td>\n",
       "      <td>0.836071</td>\n",
       "      <td>14.526497</td>\n",
       "      <td>1.102743</td>\n",
       "      <td>0.806057</td>\n",
       "      <td>49.693429</td>\n",
       "    </tr>\n",
       "    <tr>\n",
       "      <th>min</th>\n",
       "      <td>1.000000</td>\n",
       "      <td>0.000000</td>\n",
       "      <td>1.000000</td>\n",
       "      <td>0.420000</td>\n",
       "      <td>0.000000</td>\n",
       "      <td>0.000000</td>\n",
       "      <td>0.000000</td>\n",
       "    </tr>\n",
       "    <tr>\n",
       "      <th>25%</th>\n",
       "      <td>223.500000</td>\n",
       "      <td>0.000000</td>\n",
       "      <td>2.000000</td>\n",
       "      <td>20.125000</td>\n",
       "      <td>0.000000</td>\n",
       "      <td>0.000000</td>\n",
       "      <td>7.910400</td>\n",
       "    </tr>\n",
       "    <tr>\n",
       "      <th>50%</th>\n",
       "      <td>446.000000</td>\n",
       "      <td>0.000000</td>\n",
       "      <td>3.000000</td>\n",
       "      <td>28.000000</td>\n",
       "      <td>0.000000</td>\n",
       "      <td>0.000000</td>\n",
       "      <td>14.454200</td>\n",
       "    </tr>\n",
       "    <tr>\n",
       "      <th>75%</th>\n",
       "      <td>668.500000</td>\n",
       "      <td>1.000000</td>\n",
       "      <td>3.000000</td>\n",
       "      <td>38.000000</td>\n",
       "      <td>1.000000</td>\n",
       "      <td>0.000000</td>\n",
       "      <td>31.000000</td>\n",
       "    </tr>\n",
       "    <tr>\n",
       "      <th>max</th>\n",
       "      <td>891.000000</td>\n",
       "      <td>1.000000</td>\n",
       "      <td>3.000000</td>\n",
       "      <td>80.000000</td>\n",
       "      <td>8.000000</td>\n",
       "      <td>6.000000</td>\n",
       "      <td>512.329200</td>\n",
       "    </tr>\n",
       "  </tbody>\n",
       "</table>\n",
       "</div>"
      ],
      "text/plain": [
       "       PassengerId    Survived      Pclass         Age       SibSp  \\\n",
       "count   891.000000  891.000000  891.000000  714.000000  891.000000   \n",
       "mean    446.000000    0.383838    2.308642   29.699118    0.523008   \n",
       "std     257.353842    0.486592    0.836071   14.526497    1.102743   \n",
       "min       1.000000    0.000000    1.000000    0.420000    0.000000   \n",
       "25%     223.500000    0.000000    2.000000   20.125000    0.000000   \n",
       "50%     446.000000    0.000000    3.000000   28.000000    0.000000   \n",
       "75%     668.500000    1.000000    3.000000   38.000000    1.000000   \n",
       "max     891.000000    1.000000    3.000000   80.000000    8.000000   \n",
       "\n",
       "            Parch        Fare  \n",
       "count  891.000000  891.000000  \n",
       "mean     0.381594   32.204208  \n",
       "std      0.806057   49.693429  \n",
       "min      0.000000    0.000000  \n",
       "25%      0.000000    7.910400  \n",
       "50%      0.000000   14.454200  \n",
       "75%      0.000000   31.000000  \n",
       "max      6.000000  512.329200  "
      ]
     },
     "execution_count": 3,
     "metadata": {},
     "output_type": "execute_result"
    }
   ],
   "source": [
    "train_data = pd.read_csv(\"/kaggle/input/dataset-cap-6/train.csv\")\n",
    "train_data.describe()"
   ]
  },
  {
   "cell_type": "markdown",
   "id": "d0954091",
   "metadata": {
    "papermill": {
     "duration": 0.009044,
     "end_time": "2025-08-21T02:14:21.228225",
     "exception": false,
     "start_time": "2025-08-21T02:14:21.219181",
     "status": "completed"
    },
    "tags": []
   },
   "source": [
    "train_data = pd.read_csv(\"/kaggle/input/dataset-cap-6/train.csv\")\n",
    "- Carrega o dataframe\n",
    "\n",
    "train_data.describe():\n",
    "- Objetivo: Gerar um resumo estatístico das colunas numéricas do DataFrame.\n",
    "- Essa função retorna:\n",
    "- count: número de valores não nulos\n",
    "- mean: média\n",
    "- std: desvio padrão\n",
    "- min: valor mínimo\n",
    "- 25%, 50%, 75%: quartis\n",
    "- max: valor máximo\n",
    "\n"
   ]
  },
  {
   "cell_type": "code",
   "execution_count": 4,
   "id": "8ec89b8e",
   "metadata": {
    "execution": {
     "iopub.execute_input": "2025-08-21T02:14:21.247583Z",
     "iopub.status.busy": "2025-08-21T02:14:21.247215Z",
     "iopub.status.idle": "2025-08-21T02:14:21.274053Z",
     "shell.execute_reply": "2025-08-21T02:14:21.273135Z"
    },
    "papermill": {
     "duration": 0.038395,
     "end_time": "2025-08-21T02:14:21.275729",
     "exception": false,
     "start_time": "2025-08-21T02:14:21.237334",
     "status": "completed"
    },
    "tags": []
   },
   "outputs": [
    {
     "data": {
      "text/html": [
       "<div>\n",
       "<style scoped>\n",
       "    .dataframe tbody tr th:only-of-type {\n",
       "        vertical-align: middle;\n",
       "    }\n",
       "\n",
       "    .dataframe tbody tr th {\n",
       "        vertical-align: top;\n",
       "    }\n",
       "\n",
       "    .dataframe thead th {\n",
       "        text-align: right;\n",
       "    }\n",
       "</style>\n",
       "<table border=\"1\" class=\"dataframe\">\n",
       "  <thead>\n",
       "    <tr style=\"text-align: right;\">\n",
       "      <th></th>\n",
       "      <th>PassengerId</th>\n",
       "      <th>Pclass</th>\n",
       "      <th>Age</th>\n",
       "      <th>SibSp</th>\n",
       "      <th>Parch</th>\n",
       "      <th>Fare</th>\n",
       "    </tr>\n",
       "  </thead>\n",
       "  <tbody>\n",
       "    <tr>\n",
       "      <th>count</th>\n",
       "      <td>418.000000</td>\n",
       "      <td>418.000000</td>\n",
       "      <td>332.000000</td>\n",
       "      <td>418.000000</td>\n",
       "      <td>418.000000</td>\n",
       "      <td>417.000000</td>\n",
       "    </tr>\n",
       "    <tr>\n",
       "      <th>mean</th>\n",
       "      <td>1100.500000</td>\n",
       "      <td>2.265550</td>\n",
       "      <td>30.272590</td>\n",
       "      <td>0.447368</td>\n",
       "      <td>0.392344</td>\n",
       "      <td>35.627188</td>\n",
       "    </tr>\n",
       "    <tr>\n",
       "      <th>std</th>\n",
       "      <td>120.810458</td>\n",
       "      <td>0.841838</td>\n",
       "      <td>14.181209</td>\n",
       "      <td>0.896760</td>\n",
       "      <td>0.981429</td>\n",
       "      <td>55.907576</td>\n",
       "    </tr>\n",
       "    <tr>\n",
       "      <th>min</th>\n",
       "      <td>892.000000</td>\n",
       "      <td>1.000000</td>\n",
       "      <td>0.170000</td>\n",
       "      <td>0.000000</td>\n",
       "      <td>0.000000</td>\n",
       "      <td>0.000000</td>\n",
       "    </tr>\n",
       "    <tr>\n",
       "      <th>25%</th>\n",
       "      <td>996.250000</td>\n",
       "      <td>1.000000</td>\n",
       "      <td>21.000000</td>\n",
       "      <td>0.000000</td>\n",
       "      <td>0.000000</td>\n",
       "      <td>7.895800</td>\n",
       "    </tr>\n",
       "    <tr>\n",
       "      <th>50%</th>\n",
       "      <td>1100.500000</td>\n",
       "      <td>3.000000</td>\n",
       "      <td>27.000000</td>\n",
       "      <td>0.000000</td>\n",
       "      <td>0.000000</td>\n",
       "      <td>14.454200</td>\n",
       "    </tr>\n",
       "    <tr>\n",
       "      <th>75%</th>\n",
       "      <td>1204.750000</td>\n",
       "      <td>3.000000</td>\n",
       "      <td>39.000000</td>\n",
       "      <td>1.000000</td>\n",
       "      <td>0.000000</td>\n",
       "      <td>31.500000</td>\n",
       "    </tr>\n",
       "    <tr>\n",
       "      <th>max</th>\n",
       "      <td>1309.000000</td>\n",
       "      <td>3.000000</td>\n",
       "      <td>76.000000</td>\n",
       "      <td>8.000000</td>\n",
       "      <td>9.000000</td>\n",
       "      <td>512.329200</td>\n",
       "    </tr>\n",
       "  </tbody>\n",
       "</table>\n",
       "</div>"
      ],
      "text/plain": [
       "       PassengerId      Pclass         Age       SibSp       Parch        Fare\n",
       "count   418.000000  418.000000  332.000000  418.000000  418.000000  417.000000\n",
       "mean   1100.500000    2.265550   30.272590    0.447368    0.392344   35.627188\n",
       "std     120.810458    0.841838   14.181209    0.896760    0.981429   55.907576\n",
       "min     892.000000    1.000000    0.170000    0.000000    0.000000    0.000000\n",
       "25%     996.250000    1.000000   21.000000    0.000000    0.000000    7.895800\n",
       "50%    1100.500000    3.000000   27.000000    0.000000    0.000000   14.454200\n",
       "75%    1204.750000    3.000000   39.000000    1.000000    0.000000   31.500000\n",
       "max    1309.000000    3.000000   76.000000    8.000000    9.000000  512.329200"
      ]
     },
     "execution_count": 4,
     "metadata": {},
     "output_type": "execute_result"
    }
   ],
   "source": [
    "test_data = pd.read_csv(\"/kaggle/input/dataset-cap-6/test.csv\")\n",
    "test_data.describe()"
   ]
  },
  {
   "cell_type": "markdown",
   "id": "4436a911",
   "metadata": {
    "papermill": {
     "duration": 0.008574,
     "end_time": "2025-08-21T02:14:21.293318",
     "exception": false,
     "start_time": "2025-08-21T02:14:21.284744",
     "status": "completed"
    },
    "tags": []
   },
   "source": [
    " \n",
    "**3. Análise dos dados: a. Identificar as Features do banco de dados que são categóricas (não numéricas), e as que são numéricas. As numéricas, deve-se separá-las em discretas e contínuas. i. Pode-se usar o método “.info( )” para descobrir o tipo de dado de cada Feature.**\n"
   ]
  },
  {
   "cell_type": "markdown",
   "id": "e8be33cc",
   "metadata": {
    "papermill": {
     "duration": 0.009151,
     "end_time": "2025-08-21T02:14:21.316724",
     "exception": false,
     "start_time": "2025-08-21T02:14:21.307573",
     "status": "completed"
    },
    "tags": []
   },
   "source": [
    "**letra a:**"
   ]
  },
  {
   "cell_type": "markdown",
   "id": "db7a68a7",
   "metadata": {
    "papermill": {
     "duration": 0.008357,
     "end_time": "2025-08-21T02:14:21.333764",
     "exception": false,
     "start_time": "2025-08-21T02:14:21.325407",
     "status": "completed"
    },
    "tags": []
   },
   "source": [
    "**Para o train_data:**"
   ]
  },
  {
   "cell_type": "code",
   "execution_count": 5,
   "id": "0c15bbb8",
   "metadata": {
    "execution": {
     "iopub.execute_input": "2025-08-21T02:14:21.353152Z",
     "iopub.status.busy": "2025-08-21T02:14:21.352503Z",
     "iopub.status.idle": "2025-08-21T02:14:21.381388Z",
     "shell.execute_reply": "2025-08-21T02:14:21.380245Z"
    },
    "papermill": {
     "duration": 0.040142,
     "end_time": "2025-08-21T02:14:21.382884",
     "exception": false,
     "start_time": "2025-08-21T02:14:21.342742",
     "status": "completed"
    },
    "tags": []
   },
   "outputs": [
    {
     "name": "stdout",
     "output_type": "stream",
     "text": [
      "<class 'pandas.core.frame.DataFrame'>\n",
      "RangeIndex: 891 entries, 0 to 890\n",
      "Data columns (total 12 columns):\n",
      " #   Column       Non-Null Count  Dtype  \n",
      "---  ------       --------------  -----  \n",
      " 0   PassengerId  891 non-null    int64  \n",
      " 1   Survived     891 non-null    int64  \n",
      " 2   Pclass       891 non-null    int64  \n",
      " 3   Name         891 non-null    object \n",
      " 4   Sex          891 non-null    object \n",
      " 5   Age          714 non-null    float64\n",
      " 6   SibSp        891 non-null    int64  \n",
      " 7   Parch        891 non-null    int64  \n",
      " 8   Ticket       891 non-null    object \n",
      " 9   Fare         891 non-null    float64\n",
      " 10  Cabin        204 non-null    object \n",
      " 11  Embarked     889 non-null    object \n",
      "dtypes: float64(2), int64(5), object(5)\n",
      "memory usage: 83.7+ KB\n",
      "Features categóricas: ['Name', 'Sex', 'Ticket', 'Cabin', 'Embarked']\n",
      "Features numéricas: ['PassengerId', 'Survived', 'Pclass', 'Age', 'SibSp', 'Parch', 'Fare']\n",
      "Numéricas discretas: ['Survived', 'Pclass', 'SibSp', 'Parch']\n",
      "Numéricas contínuas: ['PassengerId', 'Age', 'Fare']\n"
     ]
    }
   ],
   "source": [
    "# Verificar tipos\n",
    "train_data.info()\n",
    "# Categóricas\n",
    "categorical_features = train_data.select_dtypes(include=['object', 'category']).columns.tolist()\n",
    "\n",
    "# Numéricas\n",
    "numerical_features = train_data.select_dtypes(include=['int64', 'float64']).columns.tolist()\n",
    "\n",
    "# Discretas e contínuas\n",
    "discrete_features = [col for col in numerical_features if train_data[col].nunique() < 20]\n",
    "continuous_features = [col for col in numerical_features if train_data[col].nunique() >= 20]\n",
    "\n",
    "# Exibir resultados\n",
    "print(\"Features categóricas:\", categorical_features)\n",
    "print(\"Features numéricas:\", numerical_features)\n",
    "print(\"Numéricas discretas:\", discrete_features)\n",
    "print(\"Numéricas contínuas:\", continuous_features)\n",
    "\n"
   ]
  },
  {
   "cell_type": "markdown",
   "id": "a12b15cd",
   "metadata": {
    "papermill": {
     "duration": 0.009103,
     "end_time": "2025-08-21T02:14:21.401078",
     "exception": false,
     "start_time": "2025-08-21T02:14:21.391975",
     "status": "completed"
    },
    "tags": []
   },
   "source": [
    "train_data.info()\n",
    "- Exibe um resumo do DataFrame, incluindo:\n",
    "- Nome das colunas\n",
    "- Quantidade de valores não nulos\n",
    "- Tipo de dado de cada coluna (int64, float64, object, etc.)\n",
    "- É útil para detectar colunas com valores faltantes e entender a estrutura geral dos dados.\n",
    "\n",
    "categorical_features = train_data.select_dtypes(include=['object', 'category']).columns.tolist()\n",
    "- Seleciona colunas cujo tipo é object (strings) ou category (categorias explícitas).\n",
    "- Essas colunas geralmente representam nomes, rótulos, classificações (ex: sexo, cidade, tipo de produto).\n",
    "\n",
    "numerical_features = train_data.select_dtypes(include=['int64', 'float64']).columns.tolist()\n",
    "- Seleciona colunas com dados numéricos: inteiros (int64) ou decimais (float64).\n",
    "- São usadas para cálculos estatísticos, gráficos, e modelos preditivos.\n",
    "\n",
    "discrete_features = [col for col in numerical_features if train_data[col].nunique() < 20]\n",
    "continuous_features = [col for col in numerical_features if train_data[col].nunique() >= 20]\n",
    "- Discretas: têm poucos valores únicos (menos de 20). Ex: número de filhos, nota de 0 a 10.\n",
    "- Contínuas: têm muitos valores únicos. Ex: altura, salário, idade.\n",
    "Essa separação ajuda a escolher o tipo de gráfico ou técnica estatística mais adequada para cada variável.\n",
    "\n",
    "print(\"Features categóricas:\", categorical_features)\n",
    "\n",
    "print(\"Features numéricas:\", numerical_features)\n",
    "\n",
    "print(\"Numéricas discretas:\", discrete_features)\n",
    "\n",
    "print(\"Numéricas contínuas:\", continuous_features)\n",
    "- Mostra na tela as listas de colunas classificadas por tipo.\n",
    "- Isso facilita a inspeção manual e o planejamento de etapas seguintes como limpeza, visualização ou modelagem.\n",
    "\n"
   ]
  },
  {
   "cell_type": "markdown",
   "id": "35902283",
   "metadata": {
    "papermill": {
     "duration": 0.008793,
     "end_time": "2025-08-21T02:14:21.418808",
     "exception": false,
     "start_time": "2025-08-21T02:14:21.410015",
     "status": "completed"
    },
    "tags": []
   },
   "source": [
    "**Para o test_data:**"
   ]
  },
  {
   "cell_type": "code",
   "execution_count": 6,
   "id": "2163f44c",
   "metadata": {
    "execution": {
     "iopub.execute_input": "2025-08-21T02:14:21.439007Z",
     "iopub.status.busy": "2025-08-21T02:14:21.438715Z",
     "iopub.status.idle": "2025-08-21T02:14:21.455358Z",
     "shell.execute_reply": "2025-08-21T02:14:21.454250Z"
    },
    "papermill": {
     "duration": 0.02855,
     "end_time": "2025-08-21T02:14:21.456942",
     "exception": false,
     "start_time": "2025-08-21T02:14:21.428392",
     "status": "completed"
    },
    "tags": []
   },
   "outputs": [
    {
     "name": "stdout",
     "output_type": "stream",
     "text": [
      "<class 'pandas.core.frame.DataFrame'>\n",
      "RangeIndex: 418 entries, 0 to 417\n",
      "Data columns (total 11 columns):\n",
      " #   Column       Non-Null Count  Dtype  \n",
      "---  ------       --------------  -----  \n",
      " 0   PassengerId  418 non-null    int64  \n",
      " 1   Pclass       418 non-null    int64  \n",
      " 2   Name         418 non-null    object \n",
      " 3   Sex          418 non-null    object \n",
      " 4   Age          332 non-null    float64\n",
      " 5   SibSp        418 non-null    int64  \n",
      " 6   Parch        418 non-null    int64  \n",
      " 7   Ticket       418 non-null    object \n",
      " 8   Fare         417 non-null    float64\n",
      " 9   Cabin        91 non-null     object \n",
      " 10  Embarked     418 non-null    object \n",
      "dtypes: float64(2), int64(4), object(5)\n",
      "memory usage: 36.1+ KB\n",
      "Features categóricas (test_data): ['Name', 'Sex', 'Ticket', 'Cabin', 'Embarked']\n",
      "Features numéricas (test_data): ['PassengerId', 'Pclass', 'Age', 'SibSp', 'Parch', 'Fare']\n",
      "Numéricas discretas (test_data): ['Pclass', 'SibSp', 'Parch']\n",
      "Numéricas contínuas (test_data): ['PassengerId', 'Age', 'Fare']\n"
     ]
    }
   ],
   "source": [
    "# Verificar os tipos de dados\n",
    "test_data.info()\n",
    "\n",
    "# Identificar features categóricas\n",
    "categorical_features_test = test_data.select_dtypes(include=['object', 'category']).columns.tolist()\n",
    "\n",
    "# Identificar features numéricas\n",
    "numerical_features_test = test_data.select_dtypes(include=['int64', 'float64']).columns.tolist()\n",
    "\n",
    "# Separar numéricas discretas (poucos valores únicos)\n",
    "discrete_features_test = [col for col in numerical_features_test if test_data[col].nunique() < 20]\n",
    "\n",
    "# Separar numéricas contínuas (muitos valores únicos)\n",
    "continuous_features_test = [col for col in numerical_features_test if test_data[col].nunique() >= 20]\n",
    "\n",
    "# Exibir os resultados\n",
    "print(\"Features categóricas (test_data):\", categorical_features_test)\n",
    "print(\"Features numéricas (test_data):\", numerical_features_test)\n",
    "print(\"Numéricas discretas (test_data):\", discrete_features_test)\n",
    "print(\"Numéricas contínuas (test_data):\", continuous_features_test)"
   ]
  },
  {
   "cell_type": "markdown",
   "id": "6a642920",
   "metadata": {
    "papermill": {
     "duration": 0.00891,
     "end_time": "2025-08-21T02:14:21.541821",
     "exception": false,
     "start_time": "2025-08-21T02:14:21.532911",
     "status": "completed"
    },
    "tags": []
   },
   "source": [
    "\n",
    "**b. Descobrir quais as Features contém NaN, além da quantidade desse tipo de dado em cada Feature. i. Pode-se utilizar o comando “DataFrame.isnull.sum( )”.**\n"
   ]
  },
  {
   "cell_type": "markdown",
   "id": "13b5c0ae",
   "metadata": {
    "papermill": {
     "duration": 0.008627,
     "end_time": "2025-08-21T02:14:21.559366",
     "exception": false,
     "start_time": "2025-08-21T02:14:21.550739",
     "status": "completed"
    },
    "tags": []
   },
   "source": [
    "**Para o train_data:**"
   ]
  },
  {
   "cell_type": "code",
   "execution_count": 7,
   "id": "bdd3e47c",
   "metadata": {
    "execution": {
     "iopub.execute_input": "2025-08-21T02:14:21.580182Z",
     "iopub.status.busy": "2025-08-21T02:14:21.579854Z",
     "iopub.status.idle": "2025-08-21T02:14:21.587684Z",
     "shell.execute_reply": "2025-08-21T02:14:21.586707Z"
    },
    "papermill": {
     "duration": 0.020677,
     "end_time": "2025-08-21T02:14:21.589105",
     "exception": false,
     "start_time": "2025-08-21T02:14:21.568428",
     "status": "completed"
    },
    "tags": []
   },
   "outputs": [
    {
     "name": "stdout",
     "output_type": "stream",
     "text": [
      "Valores nulos em train_data:\n",
      "Age         177\n",
      "Cabin       687\n",
      "Embarked      2\n",
      "dtype: int64\n"
     ]
    }
   ],
   "source": [
    "# Contar valores nulos por coluna\n",
    "missing_values_train = train_data.isnull().sum()\n",
    "\n",
    "# Filtrar apenas colunas com pelo menos um NaN\n",
    "missing_values_train = missing_values_train[missing_values_train > 0]\n",
    "\n",
    "# Exibir resultado\n",
    "print(\"Valores nulos em train_data:\")\n",
    "print(missing_values_train)"
   ]
  },
  {
   "cell_type": "markdown",
   "id": "b0a341a2",
   "metadata": {
    "papermill": {
     "duration": 0.00887,
     "end_time": "2025-08-21T02:14:21.607415",
     "exception": false,
     "start_time": "2025-08-21T02:14:21.598545",
     "status": "completed"
    },
    "tags": []
   },
   "source": [
    "missing_values_train = train_data.isnull().sum()\n",
    "- train_data.isnull() retorna um DataFrame booleano com True onde há valores nulos (NaN) e False onde não há.\n",
    "- .sum() soma os True (que são tratados como 1), resultando na quantidade de valores nulos por coluna.\n",
    "- O resultado é uma Series com o nome da coluna como índice e o número de valores nulos como valor.\n",
    "\n",
    "missing_values_train = missing_values_train[missing_values_train > 0]\n",
    "- Aqui, ele está removendo colunas que não têm valores nulos.\n",
    "- Fica apenas com as colunas onde o número de valores nulos é maior que zero.\n",
    "- Isso torna a análise mais limpa e focada.\n",
    "\n",
    "print(\"Valores nulos em train_data:\")\n",
    "print(missing_values_train)\n",
    "- Exibe no console uma lista das colunas com valores nulos e a quantidade de nulos em cada uma.\n",
    "- Isso ajuda a decidir o que fazer: preencher, remover ou investigar os dados faltantes."
   ]
  },
  {
   "cell_type": "markdown",
   "id": "85c7e001",
   "metadata": {
    "papermill": {
     "duration": 0.009958,
     "end_time": "2025-08-21T02:14:21.627927",
     "exception": false,
     "start_time": "2025-08-21T02:14:21.617969",
     "status": "completed"
    },
    "tags": []
   },
   "source": [
    "**Para o test_data:**"
   ]
  },
  {
   "cell_type": "code",
   "execution_count": 8,
   "id": "c09ed59c",
   "metadata": {
    "execution": {
     "iopub.execute_input": "2025-08-21T02:14:21.650097Z",
     "iopub.status.busy": "2025-08-21T02:14:21.649762Z",
     "iopub.status.idle": "2025-08-21T02:14:21.657582Z",
     "shell.execute_reply": "2025-08-21T02:14:21.656628Z"
    },
    "papermill": {
     "duration": 0.020786,
     "end_time": "2025-08-21T02:14:21.658935",
     "exception": false,
     "start_time": "2025-08-21T02:14:21.638149",
     "status": "completed"
    },
    "tags": []
   },
   "outputs": [
    {
     "name": "stdout",
     "output_type": "stream",
     "text": [
      "Valores nulos em test_data:\n",
      "Age       86\n",
      "Fare       1\n",
      "Cabin    327\n",
      "dtype: int64\n"
     ]
    }
   ],
   "source": [
    "# Contar valores nulos por coluna\n",
    "missing_values_test = test_data.isnull().sum()\n",
    "\n",
    "# Filtrar apenas colunas com pelo menos um NaN\n",
    "missing_values_test = missing_values_test[missing_values_test > 0]\n",
    "\n",
    "# Exibir resultado\n",
    "print(\"Valores nulos em test_data:\")\n",
    "print(missing_values_test)"
   ]
  },
  {
   "cell_type": "markdown",
   "id": "fe3891b6",
   "metadata": {
    "papermill": {
     "duration": 0.008944,
     "end_time": "2025-08-21T02:14:21.677241",
     "exception": false,
     "start_time": "2025-08-21T02:14:21.668297",
     "status": "completed"
    },
    "tags": []
   },
   "source": [
    " \n",
    "**c. Deve-se utilizar apenas Features numéricas e retirar as categóricas. Portanto, faça dois novos dataframes, apenas com as features numéricas do banco de dados de treino e de teste.**\n"
   ]
  },
  {
   "cell_type": "code",
   "execution_count": 9,
   "id": "5f589b6d",
   "metadata": {
    "execution": {
     "iopub.execute_input": "2025-08-21T02:14:21.699070Z",
     "iopub.status.busy": "2025-08-21T02:14:21.698320Z",
     "iopub.status.idle": "2025-08-21T02:14:21.706207Z",
     "shell.execute_reply": "2025-08-21T02:14:21.705205Z"
    },
    "papermill": {
     "duration": 0.020631,
     "end_time": "2025-08-21T02:14:21.707653",
     "exception": false,
     "start_time": "2025-08-21T02:14:21.687022",
     "status": "completed"
    },
    "tags": []
   },
   "outputs": [
    {
     "name": "stdout",
     "output_type": "stream",
     "text": [
      "O DataFrame train_numeric tem 891 linhas e 7 colunas numéricas.\n",
      "O DataFrame test_numeric tem 418 linhas e 6 colunas numéricas.\n"
     ]
    }
   ],
   "source": [
    "# DataFrame com apenas features numéricas do train_data\n",
    "train_numeric = train_data.select_dtypes(include=['int64', 'float64'])\n",
    "\n",
    "# DataFrame com apenas features numéricas do test_data\n",
    "test_numeric = test_data.select_dtypes(include=['int64', 'float64'])\n",
    "\n",
    "# Exibir os shapes para confirmar\n",
    "print(f\"O DataFrame train_numeric tem {train_numeric.shape[0]} linhas e {train_numeric.shape[1]} colunas numéricas.\")\n",
    "print(f\"O DataFrame test_numeric tem {test_numeric.shape[0]} linhas e {test_numeric.shape[1]} colunas numéricas.\")"
   ]
  },
  {
   "cell_type": "markdown",
   "id": "dcb41fff",
   "metadata": {
    "papermill": {
     "duration": 0.009126,
     "end_time": "2025-08-21T02:14:21.726266",
     "exception": false,
     "start_time": "2025-08-21T02:14:21.717140",
     "status": "completed"
    },
    "tags": []
   },
   "source": [
    "train_numeric = train_data.select_dtypes(include=['int64', 'float64'])\n",
    "- Cria um novo DataFrame chamado train_numeric contendo somente as colunas numéricas de train_data.\n",
    "- select_dtypes(...) é uma função do pandas que permite filtrar colunas com base no tipo de dado.\n",
    "- Aqui, ele inclui:\n",
    "- int64: números inteiros\n",
    "- float64: números decimais\n",
    "\n",
    "test_numeric = test_data.select_dtypes(include=['int64', 'float64'])\n",
    "- Faz a mesma coisa que a linha anterior, mas agora com o DataFrame test_data.\n",
    "- Isso é útil para garantir que os dados de treino e teste estejam consistentes em termos de estrutura numérica.\n",
    "\n",
    "print(f\"O DataFrame train_numeric tem {train_numeric.shape[0]} linhas e {train_numeric.shape[1]} colunas numéricas.\")\n",
    "print(f\"O DataFrame test_numeric tem {test_numeric.shape[0]} linhas e {test_numeric.shape[1]} colunas numéricas.\")\n",
    "- .shape retorna uma tupla com (número de linhas, número de colunas).\n",
    "- Aqui, o código está imprimindo essas dimensões para confirmar que a filtragem foi feita corretamente.\n",
    "\n",
    "Por que isso é útil?\n",
    "- Em modelos de machine learning, muitas vezes é necessário trabalhar apenas com variáveis numéricas, especialmente para algoritmos que não lidam bem com texto ou categorias sem pré-processamento.\n",
    "- Também ajuda a evitar erros ao aplicar normalização, padronização ou cálculos estatísticos.\n"
   ]
  },
  {
   "cell_type": "markdown",
   "id": "832abfee",
   "metadata": {
    "papermill": {
     "duration": 0.008941,
     "end_time": "2025-08-21T02:14:21.744509",
     "exception": false,
     "start_time": "2025-08-21T02:14:21.735568",
     "status": "completed"
    },
    "tags": []
   },
   "source": [
    " \n",
    "**d. Retire as linhas que contenham NaN das features do banco de dados de treino.  i. Para isso será útil o método DataFrame.dropna( )**\n"
   ]
  },
  {
   "cell_type": "code",
   "execution_count": 10,
   "id": "362dac7c",
   "metadata": {
    "execution": {
     "iopub.execute_input": "2025-08-21T02:14:21.764530Z",
     "iopub.status.busy": "2025-08-21T02:14:21.763831Z",
     "iopub.status.idle": "2025-08-21T02:14:21.774431Z",
     "shell.execute_reply": "2025-08-21T02:14:21.773008Z"
    },
    "papermill": {
     "duration": 0.022508,
     "end_time": "2025-08-21T02:14:21.776235",
     "exception": false,
     "start_time": "2025-08-21T02:14:21.753727",
     "status": "completed"
    },
    "tags": []
   },
   "outputs": [
    {
     "name": "stdout",
     "output_type": "stream",
     "text": [
      "Linhas e colunas original: (891, 7)\n",
      "Linhas e colunas após remoção de NaNs: (714, 7)\n"
     ]
    }
   ],
   "source": [
    "# Remover linhas com qualquer NaN do DataFrame de treino\n",
    "train_numeric_clean = train_numeric.dropna()\n",
    "\n",
    "# Exibir o novo shape para confirmar quantas linhas foram removidas\n",
    "print(f\"Linhas e colunas original: {train_numeric.shape}\")\n",
    "print(f\"Linhas e colunas após remoção de NaNs: {train_numeric_clean.shape}\")"
   ]
  },
  {
   "cell_type": "markdown",
   "id": "69fdb6a8",
   "metadata": {
    "papermill": {
     "duration": 0.009185,
     "end_time": "2025-08-21T02:14:21.794849",
     "exception": false,
     "start_time": "2025-08-21T02:14:21.785664",
     "status": "completed"
    },
    "tags": []
   },
   "source": [
    "train_numeric_clean = train_numeric.dropna()\n",
    "- dropna() remove todas as linhas que contêm pelo menos um valor nulo (NaN).\n",
    "- O resultado é um novo DataFrame chamado train_numeric_clean, que só tem linhas completas — ou seja, sem nenhum valor faltante.\n",
    "- Isso é útil para evitar problemas em algoritmos que não lidam bem com dados incompletos.\n",
    "\n",
    "print(f\"Linhas e colunas original: {train_numeric.shape}\")\n",
    "\n",
    "print(f\"Linhas e colunas após remoção de NaNs: {train_numeric_clean.shape}\")\n",
    "- .shape retorna uma tupla com (número de linhas, número de colunas).\n",
    "- A primeira linha mostra o tamanho original do DataFrame.\n",
    "- A segunda mostra o tamanho após a remoção das linhas com NaNs.\n",
    "- Isso permite ver quantas linhas foram descartadas no processo.\n"
   ]
  },
  {
   "cell_type": "markdown",
   "id": "a0fff88f",
   "metadata": {
    "papermill": {
     "duration": 0.009218,
     "end_time": "2025-08-21T02:14:21.813893",
     "exception": false,
     "start_time": "2025-08-21T02:14:21.804675",
     "status": "completed"
    },
    "tags": []
   },
   "source": [
    "\n",
    "**e. No banco de dados de teste, substitua os NaN pelo valor 0, para que o arquivo de predição tenha o número de linhas exigido pela competição  i.Utilizar o método DataFrame.fillna( )**\n"
   ]
  },
  {
   "cell_type": "code",
   "execution_count": 11,
   "id": "685c4d30",
   "metadata": {
    "execution": {
     "iopub.execute_input": "2025-08-21T02:14:21.834171Z",
     "iopub.status.busy": "2025-08-21T02:14:21.833860Z",
     "iopub.status.idle": "2025-08-21T02:14:21.844272Z",
     "shell.execute_reply": "2025-08-21T02:14:21.843166Z"
    },
    "papermill": {
     "duration": 0.022708,
     "end_time": "2025-08-21T02:14:21.845929",
     "exception": false,
     "start_time": "2025-08-21T02:14:21.823221",
     "status": "completed"
    },
    "tags": []
   },
   "outputs": [
    {
     "data": {
      "text/html": [
       "<div>\n",
       "<style scoped>\n",
       "    .dataframe tbody tr th:only-of-type {\n",
       "        vertical-align: middle;\n",
       "    }\n",
       "\n",
       "    .dataframe tbody tr th {\n",
       "        vertical-align: top;\n",
       "    }\n",
       "\n",
       "    .dataframe thead th {\n",
       "        text-align: right;\n",
       "    }\n",
       "</style>\n",
       "<table border=\"1\" class=\"dataframe\">\n",
       "  <thead>\n",
       "    <tr style=\"text-align: right;\">\n",
       "      <th></th>\n",
       "      <th>PassengerId</th>\n",
       "      <th>Pclass</th>\n",
       "      <th>Age</th>\n",
       "      <th>SibSp</th>\n",
       "      <th>Parch</th>\n",
       "      <th>Fare</th>\n",
       "    </tr>\n",
       "  </thead>\n",
       "  <tbody>\n",
       "    <tr>\n",
       "      <th>0</th>\n",
       "      <td>892</td>\n",
       "      <td>3</td>\n",
       "      <td>34.5</td>\n",
       "      <td>0</td>\n",
       "      <td>0</td>\n",
       "      <td>7.8292</td>\n",
       "    </tr>\n",
       "    <tr>\n",
       "      <th>1</th>\n",
       "      <td>893</td>\n",
       "      <td>3</td>\n",
       "      <td>47.0</td>\n",
       "      <td>1</td>\n",
       "      <td>0</td>\n",
       "      <td>7.0000</td>\n",
       "    </tr>\n",
       "    <tr>\n",
       "      <th>2</th>\n",
       "      <td>894</td>\n",
       "      <td>2</td>\n",
       "      <td>62.0</td>\n",
       "      <td>0</td>\n",
       "      <td>0</td>\n",
       "      <td>9.6875</td>\n",
       "    </tr>\n",
       "    <tr>\n",
       "      <th>3</th>\n",
       "      <td>895</td>\n",
       "      <td>3</td>\n",
       "      <td>27.0</td>\n",
       "      <td>0</td>\n",
       "      <td>0</td>\n",
       "      <td>8.6625</td>\n",
       "    </tr>\n",
       "    <tr>\n",
       "      <th>4</th>\n",
       "      <td>896</td>\n",
       "      <td>3</td>\n",
       "      <td>22.0</td>\n",
       "      <td>1</td>\n",
       "      <td>1</td>\n",
       "      <td>12.2875</td>\n",
       "    </tr>\n",
       "  </tbody>\n",
       "</table>\n",
       "</div>"
      ],
      "text/plain": [
       "   PassengerId  Pclass   Age  SibSp  Parch     Fare\n",
       "0          892       3  34.5      0      0   7.8292\n",
       "1          893       3  47.0      1      0   7.0000\n",
       "2          894       2  62.0      0      0   9.6875\n",
       "3          895       3  27.0      0      0   8.6625\n",
       "4          896       3  22.0      1      1  12.2875"
      ]
     },
     "execution_count": 11,
     "metadata": {},
     "output_type": "execute_result"
    }
   ],
   "source": [
    "#Exibição do Data Frame anterior, usei o head() para não dar erro de formatação:\n",
    "test_numeric.head()"
   ]
  },
  {
   "cell_type": "markdown",
   "id": "ef4ea011",
   "metadata": {
    "papermill": {
     "duration": 0.009445,
     "end_time": "2025-08-21T02:14:21.865237",
     "exception": false,
     "start_time": "2025-08-21T02:14:21.855792",
     "status": "completed"
    },
    "tags": []
   },
   "source": [
    "test_numeric.head():\n",
    "- .head() mostra, por padrão, as 5 primeiras linhas de um DataFrame.\n",
    "- Isso é útil para inspecionar a estrutura dos dados sem imprimir tudo (o que pode ser enorme e quebrar o formato da saída).\n"
   ]
  },
  {
   "cell_type": "code",
   "execution_count": 12,
   "id": "c3a9bf51",
   "metadata": {
    "execution": {
     "iopub.execute_input": "2025-08-21T02:14:21.886216Z",
     "iopub.status.busy": "2025-08-21T02:14:21.885921Z",
     "iopub.status.idle": "2025-08-21T02:14:21.894843Z",
     "shell.execute_reply": "2025-08-21T02:14:21.894054Z"
    },
    "papermill": {
     "duration": 0.021565,
     "end_time": "2025-08-21T02:14:21.896296",
     "exception": false,
     "start_time": "2025-08-21T02:14:21.874731",
     "status": "completed"
    },
    "tags": []
   },
   "outputs": [
    {
     "name": "stdout",
     "output_type": "stream",
     "text": [
      "     PassengerId  Pclass   Age  SibSp  Parch      Fare\n",
      "0            892       3  34.5      0      0    7.8292\n",
      "1            893       3  47.0      1      0    7.0000\n",
      "2            894       2  62.0      0      0    9.6875\n",
      "3            895       3  27.0      0      0    8.6625\n",
      "4            896       3  22.0      1      1   12.2875\n",
      "..           ...     ...   ...    ...    ...       ...\n",
      "413         1305       3   0.0      0      0    8.0500\n",
      "414         1306       1  39.0      0      0  108.9000\n",
      "415         1307       3  38.5      0      0    7.2500\n",
      "416         1308       3   0.0      0      0    8.0500\n",
      "417         1309       3   0.0      1      1   22.3583\n",
      "\n",
      "[418 rows x 6 columns]\n"
     ]
    }
   ],
   "source": [
    "# Substituir todos os NaN por 0\n",
    "test_numeric_semNaN = test_numeric.fillna(0)\n",
    "print(test_numeric_semNaN)\n"
   ]
  },
  {
   "cell_type": "markdown",
   "id": "0fe0d818",
   "metadata": {
    "papermill": {
     "duration": 0.00928,
     "end_time": "2025-08-21T02:14:21.915585",
     "exception": false,
     "start_time": "2025-08-21T02:14:21.906305",
     "status": "completed"
    },
    "tags": []
   },
   "source": [
    "test_numeric_semNaN = test_numeric.fillna(0):\n",
    "- .fillna(0) procura todos os valores NaN (ausentes) no DataFrame e os troca pelo número 0.\n",
    "- Cria-se um novo DataFrame (test_numeric_semNaN) com essa modificação, sem alterar o original.\n",
    "\n",
    "3. Mostrar o resultado\n",
    "print(test_numeric_semNaN)\n",
    "\n",
    "- Exibe todo o conteúdo do novo DataFrame já limpo de valores nulos (todos substituídos por zero).\n",
    "\n",
    "Por que fazer isso?\n",
    "- Muitos algoritmos e cálculos não aceitam valores ausentes.\n",
    "- Substituir por zero é rápido e evita erros, mas nem sempre é a melhor escolha — em alguns casos, pode distorcer resultados estatísticos.\n",
    "- Outras estratégias incluem: preencher com a média, mediana, valor mais frequente ou até valores calculados a partir de outras colunas."
   ]
  },
  {
   "cell_type": "markdown",
   "id": "90e1c1db",
   "metadata": {
    "papermill": {
     "duration": 0.009433,
     "end_time": "2025-08-21T02:14:21.934424",
     "exception": false,
     "start_time": "2025-08-21T02:14:21.924991",
     "status": "completed"
    },
    "tags": []
   },
   "source": [
    "\n",
    "**6.2- Exploração do banco de dados A próxima etapa é a visualização de dados. Para cada Feature serão gerados gráficos que indiquem a probabilidade de sobrevivência do passageiro de acordo com o valor de sua característica. Será utilizado o bar plot do seaborn, já que possibilita este tipo de visualização.  1. Para a Feature “Age” será necessário criar uma nova Feature que a separe em 8 grupos para que se possa utilizar “sns.barplot”. (DICA: Crie um novo dataframe apenas com as informações necessárias para a criação deste gráfico)  a. criar uma lista com os nomes que serão dados aos grupos em que as idades serão repartidas (Exemplo: “(0-10)”, “(10-20)”, ...) ;  b. utilize pandas.cut, para separar as idades em 8 grupos e utilize o argumento “labels” para utilizar a lista dos nomes dos grupos;  c. criar a nova coluna com os grupos, perceba que esta nova coluna será categórica;  d. criar um gráfico que indique a chance de sobrevivência por grupo de idade;  e. faça uma análise a partir da visualização deste gráfico.**\n"
   ]
  },
  {
   "cell_type": "code",
   "execution_count": 13,
   "id": "2b180dd5",
   "metadata": {
    "execution": {
     "iopub.execute_input": "2025-08-21T02:14:21.956904Z",
     "iopub.status.busy": "2025-08-21T02:14:21.956609Z",
     "iopub.status.idle": "2025-08-21T02:14:22.544945Z",
     "shell.execute_reply": "2025-08-21T02:14:22.544015Z"
    },
    "papermill": {
     "duration": 0.601833,
     "end_time": "2025-08-21T02:14:22.546404",
     "exception": false,
     "start_time": "2025-08-21T02:14:21.944571",
     "status": "completed"
    },
    "tags": []
   },
   "outputs": [
    {
     "name": "stderr",
     "output_type": "stream",
     "text": [
      "/usr/local/lib/python3.11/dist-packages/seaborn/categorical.py:641: FutureWarning: The default of observed=False is deprecated and will be changed to True in a future version of pandas. Pass observed=False to retain current behavior or observed=True to adopt the future default and silence this warning.\n",
      "  grouped_vals = vals.groupby(grouper)\n"
     ]
    },
    {
     "data": {
      "image/png": "[encoded data removed]",
      "text/plain": [
       "<Figure size 1000x600 with 1 Axes>"
      ]
     },
     "metadata": {},
     "output_type": "display_data"
    }
   ],
   "source": [
    "# Lista com os nomes dos grupos de idade\n",
    "age_labels = ['(0-10)', '(10-20)', '(20-30)', '(30-40)', '(40-50)', '(50-60)', '(60-70)', '(70-80)']\n",
    "\n",
    "# Criar nova coluna com grupos de idade\n",
    "train_data.loc[:, 'AgeGroup'] = pd.cut(train_data['Age'], bins=8, labels=age_labels)\n",
    "\n",
    "# Filtrar apenas linhas com grupo de idade definido (sem NaN)\n",
    "age_group_data = train_data.dropna(subset=['AgeGroup'])\n",
    "\n",
    "# Criar gráfico\n",
    "plt.figure(figsize=(10, 6))\n",
    "sns.barplot(x='AgeGroup', y='Survived', data=age_group_data, palette='Blues')\n",
    "plt.title('Probabilidade de Sobrevivência por Faixa Etária')\n",
    "plt.ylabel('Chance Média de Sobrevivência')\n",
    "plt.xlabel('Faixa Etária')\n",
    "plt.xticks(rotation=45)\n",
    "plt.show()"
   ]
  },
  {
   "cell_type": "markdown",
   "id": "8f27e007",
   "metadata": {
    "papermill": {
     "duration": 0.009819,
     "end_time": "2025-08-21T02:14:22.566668",
     "exception": false,
     "start_time": "2025-08-21T02:14:22.556849",
     "status": "completed"
    },
    "tags": []
   },
   "source": [
    "age_labels = ['(0-10)', '(10-20)', '(20-30)', '(30-40)', '(40-50)', '(50-60)', '(60-70)', '(70-80)']:\n",
    "- Essa lista define os nomes que serão atribuídos às faixas de idade.\n",
    "- Cada string representa um intervalo de 10 anos.\n",
    "\n",
    "train_data.loc[:, 'AgeGroup'] = pd.cut(train_data['Age'], bins=8, labels=age_labels):\n",
    "- pd.cut() divide a coluna Age em 8 faixas de valores (bins).\n",
    "- Os rótulos definidos em age_labels são atribuídos a cada faixa.\n",
    "- O resultado é uma nova coluna chamada AgeGroup com valores como (20-30), (30-40) etc.\n",
    "- loc[:, 'AgeGroup'] garante que a nova coluna seja adicionada corretamente ao DataFrame.\n",
    "\n",
    "age_group_data = train_data.dropna(subset=['AgeGroup']):\n",
    "- Remove linhas onde AgeGroup está nulo (provavelmente porque a idade original estava ausente).\n",
    "- Isso evita que o gráfico inclua dados incompletos.\n",
    "\n",
    "\n",
    "plt.figure(figsize=(10, 6))\n",
    "sns.barplot(x='AgeGroup', y='Survived', data=age_group_data, palette='Blues')\n",
    "- Cria uma figura com tamanho personalizado.\n",
    "- sns.barplot() calcula a média da coluna Survived para cada faixa etária.\n",
    "- Se Survived for binária (0 = não sobreviveu, 1 = sobreviveu), a média representa a probabilidade média de sobrevivência.\n",
    "- palette='Blues' aplica uma paleta de cores azulada.\n",
    "\n",
    "plt.title('Probabilidade de Sobrevivência por Faixa Etária')\n",
    "plt.ylabel('Chance Média de Sobrevivência')\n",
    "plt.xlabel('Faixa Etária')\n",
    "plt.xticks(rotation=45)\n",
    "plt.show()\n",
    "- Adiciona título e rótulos aos eixos.\n",
    "- Rotaciona os rótulos do eixo X para facilitar a leitura.\n",
    "- plt.show() exibe o gráfico.\n",
    "\n",
    "Resultado:\n",
    "Um gráfico de barras mostrando, por exemplo, que pessoas entre 20 e 30 anos podem ter tido maior taxa de sobrevivência do que outras faixas — dependendo do contexto do dataset (como o Titanic, por exemplo)."
   ]
  },
  {
   "cell_type": "markdown",
   "id": "8845630f",
   "metadata": {
    "papermill": {
     "duration": 0.009987,
     "end_time": "2025-08-21T02:14:22.589004",
     "exception": false,
     "start_time": "2025-08-21T02:14:22.579017",
     "status": "completed"
    },
    "tags": []
   },
   "source": [
    " \n",
    "**2. Crie gráficos para todas as outras features numéricas discretas, e faça uma análise dos resultados obtidos. Não será necessário produzir um gráfico para a feature “Fare”. Após a criação de cada gráfico será necessário realizar uma breve análise para avaliação do impacto de cada feature na predição.**\n"
   ]
  },
  {
   "cell_type": "markdown",
   "id": "f18ff7d3",
   "metadata": {
    "papermill": {
     "duration": 0.010095,
     "end_time": "2025-08-21T02:14:22.609220",
     "exception": false,
     "start_time": "2025-08-21T02:14:22.599125",
     "status": "completed"
    },
    "tags": []
   },
   "source": [
    "**Gráfico Pclass VS Sobrevivência**"
   ]
  },
  {
   "cell_type": "code",
   "execution_count": 14,
   "id": "9d33b564",
   "metadata": {
    "execution": {
     "iopub.execute_input": "2025-08-21T02:14:22.630829Z",
     "iopub.status.busy": "2025-08-21T02:14:22.630540Z",
     "iopub.status.idle": "2025-08-21T02:14:22.854503Z",
     "shell.execute_reply": "2025-08-21T02:14:22.853572Z"
    },
    "papermill": {
     "duration": 0.236837,
     "end_time": "2025-08-21T02:14:22.856153",
     "exception": false,
     "start_time": "2025-08-21T02:14:22.619316",
     "status": "completed"
    },
    "tags": []
   },
   "outputs": [
    {
     "data": {
      "image/png": "[encoded data removed]",
      "text/plain": [
       "<Figure size 800x500 with 1 Axes>"
      ]
     },
     "metadata": {},
     "output_type": "display_data"
    }
   ],
   "source": [
    "plt.figure(figsize=(8, 5))\n",
    "sns.barplot(x='Pclass', y='Survived', data=train_data, palette='Set2')\n",
    "plt.title('Sobrevivência por Classe do Passageiro')\n",
    "plt.ylabel('Chance Média de Sobrevivência')\n",
    "plt.xlabel('Classe')\n",
    "plt.show()"
   ]
  },
  {
   "cell_type": "markdown",
   "id": "b5036416",
   "metadata": {
    "papermill": {
     "duration": 0.010398,
     "end_time": "2025-08-21T02:14:22.878413",
     "exception": false,
     "start_time": "2025-08-21T02:14:22.868015",
     "status": "completed"
    },
    "tags": []
   },
   "source": [
    "plt.figure(figsize=(8, 5)):\n",
    "- Define o tamanho da figura: 8 polegadas de largura por 5 de altura.\n",
    "- Isso ajuda a deixar o gráfico mais legível e proporcional.\n",
    "\n",
    "sns.barplot(x='Pclass', y='Survived', data=train_data, palette='Set2'):\n",
    "- x='Pclass': o eixo X representa a classe do passageiro (1ª, 2ª ou 3ª classe).\n",
    "- y='Survived': o eixo Y mostra a média da variável Survived para cada classe.\n",
    "- Como Survived é binária (0 = não sobreviveu, 1 = sobreviveu), a média representa a chance média de sobrevivência.\n",
    "- data=train_data: usa os dados do DataFrame train_data.\n",
    "- palette='Set2': aplica uma paleta de cores suave e agradável.\n",
    "\n",
    "plt.title('Sobrevivência por Classe do Passageiro')\n",
    "plt.ylabel('Chance Média de Sobrevivência')\n",
    "plt.xlabel('Classe')\n",
    "- Adiciona título e rótulos aos eixos para facilitar a interpretação.\n",
    "\n",
    "- plt.show()\n",
    "- Renderiza e exibe o gráfico na tela."
   ]
  },
  {
   "cell_type": "markdown",
   "id": "a71acc26",
   "metadata": {
    "papermill": {
     "duration": 0.010399,
     "end_time": "2025-08-21T02:14:22.899982",
     "exception": false,
     "start_time": "2025-08-21T02:14:22.889583",
     "status": "completed"
    },
    "tags": []
   },
   "source": [
    "**Análise:**\n",
    "Passageiros que estavam na primeira classe tiveram maior chance de sobrevivênica.\n",
    "A terceira classe teve menor chance indicando correlação entre a classe social e a taxa de sobrevivência.\n",
    "O que mostra que a condição socioeconômica do cidadão influencia no acesso a botes e boias sala vidas."
   ]
  },
  {
   "cell_type": "markdown",
   "id": "2401d71b",
   "metadata": {
    "papermill": {
     "duration": 0.010341,
     "end_time": "2025-08-21T02:14:22.920879",
     "exception": false,
     "start_time": "2025-08-21T02:14:22.910538",
     "status": "completed"
    },
    "tags": []
   },
   "source": [
    "**Gráfico SibSp VS Sobrevivência**"
   ]
  },
  {
   "cell_type": "code",
   "execution_count": 15,
   "id": "8d93992b",
   "metadata": {
    "execution": {
     "iopub.execute_input": "2025-08-21T02:14:22.943267Z",
     "iopub.status.busy": "2025-08-21T02:14:22.942980Z",
     "iopub.status.idle": "2025-08-21T02:14:23.257673Z",
     "shell.execute_reply": "2025-08-21T02:14:23.256794Z"
    },
    "papermill": {
     "duration": 0.327696,
     "end_time": "2025-08-21T02:14:23.259189",
     "exception": false,
     "start_time": "2025-08-21T02:14:22.931493",
     "status": "completed"
    },
    "tags": []
   },
   "outputs": [
    {
     "data": {
      "image/png": "[encoded data removed]",
      "text/plain": [
       "<Figure size 800x500 with 1 Axes>"
      ]
     },
     "metadata": {},
     "output_type": "display_data"
    }
   ],
   "source": [
    "plt.figure(figsize=(8, 5))\n",
    "sns.barplot(x='SibSp', y='Survived', data=train_data, palette='Set1')\n",
    "plt.title('Sobrevivência por Nº de Irmãos/Cônjuges a Bordo')\n",
    "plt.ylabel('Chance Média de Sobrevivência')\n",
    "plt.xlabel('SibSp')\n",
    "plt.show()"
   ]
  },
  {
   "cell_type": "markdown",
   "id": "93f990ba",
   "metadata": {
    "papermill": {
     "duration": 0.01113,
     "end_time": "2025-08-21T02:14:23.282690",
     "exception": false,
     "start_time": "2025-08-21T02:14:23.271560",
     "status": "completed"
    },
    "tags": []
   },
   "source": [
    "plt.figure(figsize=(8, 5)):\n",
    "- Cria uma nova figura com tamanho 8 polegadas de largura por 5 de altura.\n",
    "- Isso ajuda a deixar o gráfico mais legível e proporcional.\n",
    "\n",
    "sns.barplot(x='SibSp', y='Survived', data=train_data, palette='Set1'):\n",
    "- Usa o Seaborn para criar um gráfico de barras.\n",
    "- x='SibSp': eixo X representa o número de irmãos/cônjuges a bordo.\n",
    "- y='Survived': eixo Y mostra a média da taxa de sobrevivência para cada valor de SibSp.\n",
    "- data=train_data: os dados vêm do DataFrame train_data.\n",
    "- palette='Set1': aplica uma paleta de cores vibrante e distinta.\n",
    "\n",
    "plt.title('Sobrevivência por Nº de Irmãos/Cônjuges a Bordo'):\n",
    "- Define o título do gráfico, explicando o que está sendo visualizado.\n",
    "\n",
    "plt.ylabel('Chance Média de Sobrevivência'):\n",
    "- Rotula o eixo Y, indicando que os valores representam probabilidades médias (entre 0 e 1).\n",
    "\n",
    "plt.xlabel('SibSp'):\n",
    "- Rotula o eixo X com a variável SibSp.\n",
    "\n",
    "plt.show():\n",
    "- Exibe o gráfico na tela."
   ]
  },
  {
   "cell_type": "markdown",
   "id": "640975de",
   "metadata": {
    "papermill": {
     "duration": 0.011985,
     "end_time": "2025-08-21T02:14:23.305931",
     "exception": false,
     "start_time": "2025-08-21T02:14:23.293946",
     "status": "completed"
    },
    "tags": []
   },
   "source": [
    "**Análise:**\n",
    "Passageiros que tinham acompanhates, um ou dois tiveram maior chance de sobrevivênica.\n",
    "Aqueles que estavam sozinhos ou com muitos acompanhantes tiveram menor chance de sobrevivência.\n",
    "Isso mostra que estar com menos acompanhantes favorece a sobrevivência.\n"
   ]
  },
  {
   "cell_type": "markdown",
   "id": "1847fb89",
   "metadata": {
    "papermill": {
     "duration": 0.011324,
     "end_time": "2025-08-21T02:14:23.328420",
     "exception": false,
     "start_time": "2025-08-21T02:14:23.317096",
     "status": "completed"
    },
    "tags": []
   },
   "source": [
    "**Gráfico Parch VS Sobrevivência**"
   ]
  },
  {
   "cell_type": "code",
   "execution_count": 16,
   "id": "3db7b360",
   "metadata": {
    "execution": {
     "iopub.execute_input": "2025-08-21T02:14:23.352327Z",
     "iopub.status.busy": "2025-08-21T02:14:23.352030Z",
     "iopub.status.idle": "2025-08-21T02:14:23.640619Z",
     "shell.execute_reply": "2025-08-21T02:14:23.639635Z"
    },
    "papermill": {
     "duration": 0.302465,
     "end_time": "2025-08-21T02:14:23.641982",
     "exception": false,
     "start_time": "2025-08-21T02:14:23.339517",
     "status": "completed"
    },
    "tags": []
   },
   "outputs": [
    {
     "data": {
      "image/png": "[encoded data removed]",
      "text/plain": [
       "<Figure size 800x500 with 1 Axes>"
      ]
     },
     "metadata": {},
     "output_type": "display_data"
    }
   ],
   "source": [
    "plt.figure(figsize=(8, 5))\n",
    "sns.barplot(x='Parch', y='Survived', data=train_data, palette='coolwarm')\n",
    "plt.title('Sobrevivência por Nº de Pais/Filhos a Bordo')\n",
    "plt.ylabel('Chance Média de Sobrevivência')\n",
    "plt.xlabel('Parch')\n",
    "plt.show()"
   ]
  },
  {
   "cell_type": "markdown",
   "id": "909e37f6",
   "metadata": {
    "papermill": {
     "duration": 0.012104,
     "end_time": "2025-08-21T02:14:23.666017",
     "exception": false,
     "start_time": "2025-08-21T02:14:23.653913",
     "status": "completed"
    },
    "tags": []
   },
   "source": [
    "plt.figure(figsize=(8, 5)):\n",
    "- Cria uma figura de tamanho 8x5 polegadas para o gráfico.\n",
    "\n",
    "sns.barplot(x='Parch', y='Survived', data=train_data, palette='coolwarm')\n",
    "- Cria um gráfico de barras usando Seaborn.\n",
    "- x='Parch': eixo X representa o número de pais/filhos a bordo.\n",
    "- y='Survived': eixo Y mostra a média da taxa de sobrevivência para cada valor de Parch.\n",
    "- Como Survived é binária (0 = não sobreviveu, 1 = sobreviveu), a média representa a probabilidade média de sobrevivência.\n",
    "- palette='coolwarm': usa uma paleta de cores que vai do azul ao vermelho, facilitando a visualização de contrastes.\n",
    "\n",
    "plt.title('Sobrevivência por Nº de Pais/Filhos a Bordo')\n",
    "plt.ylabel('Chance Média de Sobrevivência')\n",
    "plt.xlabel('Parch'):\n",
    "- Adiciona título e rótulos aos eixos para tornar o gráfico mais informativo.\n",
    "\n",
    "plt.show():\n",
    "- Exibe o gráfico na tela."
   ]
  },
  {
   "cell_type": "markdown",
   "id": "71c4a98c",
   "metadata": {
    "papermill": {
     "duration": 0.012656,
     "end_time": "2025-08-21T02:14:23.690730",
     "exception": false,
     "start_time": "2025-08-21T02:14:23.678074",
     "status": "completed"
    },
    "tags": []
   },
   "source": [
    "**Análise:**\n",
    "Passageiros com 1 a 3 familiares tiveram maiores chances de sobreviver.\n",
    "Aqueles sozinhos ou com mais de 4 familiares tiveram menores chances de sobrevivência.\n",
    "Isso mostra que laços familiares moderados promoveram maiores chances do individuo sobreviver.\n"
   ]
  },
  {
   "cell_type": "markdown",
   "id": "f6d6e5e9",
   "metadata": {
    "papermill": {
     "duration": 0.012171,
     "end_time": "2025-08-21T02:14:23.715517",
     "exception": false,
     "start_time": "2025-08-21T02:14:23.703346",
     "status": "completed"
    },
    "tags": []
   },
   "source": [
    "**Gráfico AgeGroup VS Sobrevivência**"
   ]
  },
  {
   "cell_type": "code",
   "execution_count": 17,
   "id": "9b5cfd12",
   "metadata": {
    "execution": {
     "iopub.execute_input": "2025-08-21T02:14:23.743431Z",
     "iopub.status.busy": "2025-08-21T02:14:23.743094Z",
     "iopub.status.idle": "2025-08-21T02:14:24.135227Z",
     "shell.execute_reply": "2025-08-21T02:14:24.134206Z"
    },
    "papermill": {
     "duration": 0.408494,
     "end_time": "2025-08-21T02:14:24.136999",
     "exception": false,
     "start_time": "2025-08-21T02:14:23.728505",
     "status": "completed"
    },
    "tags": []
   },
   "outputs": [
    {
     "name": "stderr",
     "output_type": "stream",
     "text": [
      "/usr/local/lib/python3.11/dist-packages/seaborn/categorical.py:641: FutureWarning: The default of observed=False is deprecated and will be changed to True in a future version of pandas. Pass observed=False to retain current behavior or observed=True to adopt the future default and silence this warning.\n",
      "  grouped_vals = vals.groupby(grouper)\n"
     ]
    },
    {
     "data": {
      "image/png": "[encoded data removed]",
      "text/plain": [
       "<Figure size 1000x600 with 1 Axes>"
      ]
     },
     "metadata": {},
     "output_type": "display_data"
    }
   ],
   "source": [
    "plt.figure(figsize=(10, 6))\n",
    "sns.barplot(x='AgeGroup', y='Survived', data=train_data, palette='viridis')\n",
    "plt.title('Sobrevivência por Faixa Etária')\n",
    "plt.ylabel('Chance Média de Sobrevivência')\n",
    "plt.xlabel('Faixa Etária')\n",
    "plt.xticks(rotation=45)\n",
    "plt.show()"
   ]
  },
  {
   "cell_type": "markdown",
   "id": "56b9d56d",
   "metadata": {
    "papermill": {
     "duration": 0.012657,
     "end_time": "2025-08-21T02:14:24.163318",
     "exception": false,
     "start_time": "2025-08-21T02:14:24.150661",
     "status": "completed"
    },
    "tags": []
   },
   "source": [
    "plt.figure(figsize=(10, 6)):\n",
    "- Cria uma figura de tamanho 10x6 polegadas para o gráfico. Isso ajuda a deixá-lo mais legível.\n",
    "\n",
    "sns.barplot(x='AgeGroup', y='Survived', data=train_data, palette='viridis'):\n",
    "- Usa o Seaborn para criar um gráfico de barras.\n",
    "- x='AgeGroup': eixo X mostra as faixas etárias.\n",
    "- y='Survived': eixo Y mostra a média da taxa de sobrevivência para cada faixa etária.\n",
    "- Como Survived é binária (0 ou 1), a média representa a chance média de sobrevivência.\n",
    "- palette='viridis': aplica uma paleta de cores que vai do roxo ao amarelo-esverdeado, ótima para destacar variações.\n",
    "\n",
    "plt.title('Sobrevivência por Faixa Etária')\n",
    "plt.ylabel('Chance Média de Sobrevivência')\n",
    "plt.xlabel('Faixa Etária')\n",
    "- Adiciona título e rótulos aos eixos para tornar o gráfico mais informativo.\n",
    "\n",
    "plt.xticks(rotation=45):\n",
    "- Rotaciona os rótulos do eixo X em 45 graus para evitar sobreposição e facilitar a leitura.\n",
    "\n",
    "plt.show():\n",
    "- Exibe o gráfico na tela."
   ]
  },
  {
   "cell_type": "markdown",
   "id": "e8f5629f",
   "metadata": {
    "papermill": {
     "duration": 0.012633,
     "end_time": "2025-08-21T02:14:24.188790",
     "exception": false,
     "start_time": "2025-08-21T02:14:24.176157",
     "status": "completed"
    },
    "tags": []
   },
   "source": [
    "**Análise:**\n",
    "Crianças tiveram maior chances de sobrevivênica.\n",
    "Idosos e jovens tiveram menores chances de sobreviver.\n",
    "Isso mostra que a prioridade de salvamento foi dada as crianças."
   ]
  },
  {
   "cell_type": "markdown",
   "id": "615c47e3",
   "metadata": {
    "papermill": {
     "duration": 0.013108,
     "end_time": "2025-08-21T02:14:24.215379",
     "exception": false,
     "start_time": "2025-08-21T02:14:24.202271",
     "status": "completed"
    },
    "tags": []
   },
   "source": [
    "**6.3- Treinamento do modelo e submissão das predições**\n",
    "\n",
    "**1. Separação de banco de dados de treino e validação:\n",
    " a. Criar variável X, contendo o banco de dados apenas das Features;\n",
    " b. Criar variável y, contendo o target da predição;\n",
    " c. Usar Train Test Split para separar treino e validação (DICA: utilizar validação\n",
    " com 20%dotamanho do treino);**"
   ]
  },
  {
   "cell_type": "code",
   "execution_count": 18,
   "id": "92e3b9a1",
   "metadata": {
    "execution": {
     "iopub.execute_input": "2025-08-21T02:14:24.242735Z",
     "iopub.status.busy": "2025-08-21T02:14:24.242335Z",
     "iopub.status.idle": "2025-08-21T02:14:24.592554Z",
     "shell.execute_reply": "2025-08-21T02:14:24.591397Z"
    },
    "papermill": {
     "duration": 0.365819,
     "end_time": "2025-08-21T02:14:24.594158",
     "exception": false,
     "start_time": "2025-08-21T02:14:24.228339",
     "status": "completed"
    },
    "tags": []
   },
   "outputs": [],
   "source": [
    "from sklearn.model_selection import train_test_split\n",
    "\n",
    "# Carregar os dados (DataFrame: train_data e test_data)\n",
    "# Remover a coluna de ID e definir Features e Target\n",
    "X = train_data.drop(columns=['PassengerId', 'Survived'])\n",
    "y = train_data['Survived']\n",
    "\n",
    "# Separar em treino e validação (80% treino, 20% validação)\n",
    "X_train, X_val, y_train, y_val = train_test_split(X, y, test_size=0.2, random_state=42)\n",
    "\n",
    "#Tranformando as variáveis categóricas em numéricas:\n",
    "X_train = pd.get_dummies(X_train)\n",
    "X_val = pd.get_dummies(X_val)\n",
    "\n",
    "#Alinhamento das colunas:\n",
    "X_train, X_val = X_train.align(X_val, join='left', axis=1, fill_value=0)\n"
   ]
  },
  {
   "cell_type": "markdown",
   "id": "e93a795f",
   "metadata": {
    "papermill": {
     "duration": 0.01221,
     "end_time": "2025-08-21T02:14:24.619368",
     "exception": false,
     "start_time": "2025-08-21T02:14:24.607158",
     "status": "completed"
    },
    "tags": []
   },
   "source": [
    "from sklearn.model_selection import train_test_split:\n",
    "- Importa a função train_test_split da biblioteca scikit-learn, usada para dividir os dados em conjuntos de treino e validação.\n",
    "\n",
    "X = train_data.drop(columns=['PassengerId', 'Survived'])\n",
    "y = train_data['Survived']\n",
    "- X: contém todas as features (variáveis independentes), exceto PassengerId (irrelevante para o modelo) e Survived (que é o alvo).\n",
    "- y: é a variável target, ou seja, o que queremos prever — se o passageiro sobreviveu (1) ou não (0).\n",
    "\n",
    "X_train, X_val, y_train, y_val = train_test_split(X, y, test_size=0.2, random_state=42):\n",
    "- Divide os dados em:\n",
    "- X_train, y_train: 80% dos dados para treinar o modelo.\n",
    "- X_val, y_val: 20% dos dados para validar/testar o modelo.\n",
    "- random_state=42: garante que a divisão seja reprodutível (sempre igual).\n",
    "\n",
    "X_train = pd.get_dummies(X_train)\n",
    "X_val = pd.get_dummies(X_val):\n",
    "- Converte variáveis categóricas (como Sex, Embarked, etc.) em variáveis numéricas usando one-hot encoding.\n",
    "- Exemplo: a coluna Sex vira duas colunas: Sex_male e Sex_female, com valores 0 ou 1.\n",
    "\n",
    "X_train, X_val = X_train.align(X_val, join='left', axis=1, fill_value=0):\n",
    "- Garante que X_val tenha as mesmas colunas que X_train, mesmo que alguma categoria não tenha aparecido na validação.\n",
    "- fill_value=0: preenche com zero as colunas ausentes.\n",
    "\n",
    "Resultado final:\n",
    "- X_train, y_train: prontos para treinar o modelo.\n",
    "- X_val, y_val: prontos para avaliar o desempenho do modelo.\n",
    "\n"
   ]
  },
  {
   "cell_type": "markdown",
   "id": "f148f876",
   "metadata": {
    "papermill": {
     "duration": 0.012979,
     "end_time": "2025-08-21T02:14:24.645656",
     "exception": false,
     "start_time": "2025-08-21T02:14:24.632677",
     "status": "completed"
    },
    "tags": []
   },
   "source": [
    "**2. Treinamento e validação do modelo:**\n",
    "\n",
    " **a. Importar Random Forest Classifier da biblioteca sklearn.ensemble;**\n",
    " \n",
    " **b. Importar accuracy score da biblioteca sklearn.metrics;**\n",
    " \n",
    " **c. Treinar random forest com as features e o target de treino;**\n",
    " \n",
    " **d. Realizar a predição;**\n",
    " \n",
    " **e. Validar a predição, comparando com o target da validação, utilizando accuracy\n",
    " score;**\n",
    " \n",
    " **f. Avalie se a pontuação é satisfatória.**"
   ]
  },
  {
   "cell_type": "code",
   "execution_count": 19,
   "id": "196573e5",
   "metadata": {
    "execution": {
     "iopub.execute_input": "2025-08-21T02:14:24.673760Z",
     "iopub.status.busy": "2025-08-21T02:14:24.672538Z",
     "iopub.status.idle": "2025-08-21T02:14:25.093043Z",
     "shell.execute_reply": "2025-08-21T02:14:25.092022Z"
    },
    "papermill": {
     "duration": 0.436328,
     "end_time": "2025-08-21T02:14:25.094884",
     "exception": false,
     "start_time": "2025-08-21T02:14:24.658556",
     "status": "completed"
    },
    "tags": []
   },
   "outputs": [],
   "source": [
    "#Regularizando os valores de NaN para que o código não dê erro e o random forest funcione:\n",
    "from sklearn.impute import SimpleImputer\n",
    "\n",
    "# Criar imputador que substitui NaN por a média (ou mediana, ou 0)\n",
    "imputer = SimpleImputer(strategy='mean')\n",
    "\n",
    "# Aplicar no treino e validação\n",
    "X_train = imputer.fit_transform(X_train)\n",
    "X_val = imputer.transform(X_val)"
   ]
  },
  {
   "cell_type": "markdown",
   "id": "37e3b12a",
   "metadata": {
    "papermill": {
     "duration": 0.012681,
     "end_time": "2025-08-21T02:14:25.121015",
     "exception": false,
     "start_time": "2025-08-21T02:14:25.108334",
     "status": "completed"
    },
    "tags": []
   },
   "source": [
    "from sklearn.impute import SimpleImputer:\n",
    "- Importa a classe SimpleImputer da biblioteca scikit-learn.\n",
    "- Essa classe é usada para preencher valores ausentes em um DataFrame ou matriz de dados.\n",
    "\n",
    "imputer = SimpleImputer(strategy='mean'):\n",
    "- Cria um objeto imputer que vai substituir os valores NaN pela média da coluna correspondente.\n",
    "- Outras estratégias possíveis: 'median', 'most_frequent', 'constant'.\n",
    "\n",
    "X_train = imputer.fit_transform(X_train):\n",
    "- fit_transform() calcula a média de cada coluna com base nos dados de treino (X_train) e substitui os NaNs por esses valores.\n",
    "- O resultado é uma matriz NumPy com os dados limpos, pronta para ser usada no modelo.\n",
    "\n",
    "X_val = imputer.transform(X_val):\n",
    "- Aplica a mesma média calculada no treino para preencher os NaNs no conjunto de validação (X_val).\n",
    "- Isso garante consistência entre os dados de treino e teste — fundamental para evitar vazamento de informação.\n",
    "\n",
    "Por que isso é importante?\n",
    "- Muitos algoritmos, como o Random Forest, não aceitam valores nulos.\n",
    "- Preencher os NaNs evita erros e melhora a qualidade do modelo.\n",
    "- Usar a média é uma abordagem simples e eficaz, especialmente quando os dados estão bem distribuídos."
   ]
  },
  {
   "cell_type": "code",
   "execution_count": 20,
   "id": "395854c7",
   "metadata": {
    "execution": {
     "iopub.execute_input": "2025-08-21T02:14:25.148271Z",
     "iopub.status.busy": "2025-08-21T02:14:25.147957Z",
     "iopub.status.idle": "2025-08-21T02:14:26.253925Z",
     "shell.execute_reply": "2025-08-21T02:14:26.252709Z"
    },
    "papermill": {
     "duration": 1.121655,
     "end_time": "2025-08-21T02:14:26.255665",
     "exception": false,
     "start_time": "2025-08-21T02:14:25.134010",
     "status": "completed"
    },
    "tags": []
   },
   "outputs": [
    {
     "name": "stdout",
     "output_type": "stream",
     "text": [
      "Acurácia na validação: 0.8101\n"
     ]
    }
   ],
   "source": [
    "\n",
    "from sklearn.ensemble import RandomForestClassifier\n",
    "from sklearn.metrics import accuracy_score\n",
    "\n",
    "# Criando e treinando o modelo\n",
    "model = RandomForestClassifier(n_estimators=200, random_state=42)\n",
    "model.fit(X_train, y_train)\n",
    "\n",
    "# Predições\n",
    "y_pred = model.predict(X_val)\n",
    "\n",
    "# Avaliação com accuracy score\n",
    "accuracy = accuracy_score(y_val, y_pred)\n",
    "print(f\"Acurácia na validação: {accuracy:.4f}\")"
   ]
  },
  {
   "cell_type": "markdown",
   "id": "21817382",
   "metadata": {
    "papermill": {
     "duration": 0.012488,
     "end_time": "2025-08-21T02:14:26.281057",
     "exception": false,
     "start_time": "2025-08-21T02:14:26.268569",
     "status": "completed"
    },
    "tags": []
   },
   "source": [
    "from sklearn.ensemble import RandomForestClassifier\n",
    "from sklearn.metrics import accuracy_score:\n",
    "- RandomForestClassifier: modelo de aprendizado de máquina baseado em uma coleção de árvores de decisão (ensemble).\n",
    "- accuracy_score: função que mede a acurácia, ou seja, a proporção de previsões corretas.\n",
    "\n",
    "model = RandomForestClassifier(n_estimators=200, random_state=42)\n",
    "model.fit(X_train, y_train)\n",
    "- n_estimators=200: o modelo vai criar 200 árvores de decisão. Mais árvores geralmente significam melhor desempenho, até certo ponto.\n",
    "- random_state=42: garante reprodutibilidade dos resultados. Usar um número fixo faz com que o modelo sempre gere o mesmo resultado.\n",
    "- fit(X_train, y_train): treina o modelo com os dados de entrada (X_train) e os rótulos (y_train).\n",
    "\n",
    "y_pred = model.predict(X_val):\n",
    "- Usa o modelo treinado para prever os rótulos do conjunto de validação (X_val).\n",
    "- O resultado é um vetor y_pred com as classes previstas.\n",
    "\n",
    "accuracy = accuracy_score(y_val, y_pred)\n",
    "print(f\"Acurácia na validação: {accuracy:.4f}\"):\n",
    "- Compara as previsões (y_pred) com os rótulos reais (y_val) e calcula a acurácia.\n",
    "- O :.4f no print formata o número para quatro casas decimais."
   ]
  },
  {
   "cell_type": "markdown",
   "id": "7169b57f",
   "metadata": {
    "papermill": {
     "duration": 0.013191,
     "end_time": "2025-08-21T02:14:26.307559",
     "exception": false,
     "start_time": "2025-08-21T02:14:26.294368",
     "status": "completed"
    },
    "tags": []
   },
   "source": [
    " \n",
    "**3. Gerar predição, salvar a versão e submeter à competição:** \n",
    "\n",
    "**a. Treinar novamente o modelo, utilizando o banco de dados completo;** \n",
    "\n",
    "**b. Salvar o índice do banco de dados de teste;** \n",
    "\n",
    "**c. Gerar uma predição a partir do modelo, sendo a entrar o banco de dados de teste, sem seu índice;** \n",
    "\n",
    "**d. Criar um dataframe com o pandas que contenha: os mesmos índices do banco de dados de teste, as predições realizadas (OBS: Olhar arquivo modelo \"gender_submission.csv\");** \n",
    "\n",
    "**e. Transformar este dataframe em um arquivo csv utilizando pandas;** \n",
    "\n",
    "**f. Salvar a versão clicando em “Save Version”, selecionar a versão que foi salva e submeter à competição.**\n"
   ]
  },
  {
   "cell_type": "code",
   "execution_count": 21,
   "id": "f76a7dc9",
   "metadata": {
    "execution": {
     "iopub.execute_input": "2025-08-21T02:14:26.334619Z",
     "iopub.status.busy": "2025-08-21T02:14:26.334213Z",
     "iopub.status.idle": "2025-08-21T02:14:27.850448Z",
     "shell.execute_reply": "2025-08-21T02:14:27.849570Z"
    },
    "papermill": {
     "duration": 1.531946,
     "end_time": "2025-08-21T02:14:27.852097",
     "exception": false,
     "start_time": "2025-08-21T02:14:26.320151",
     "status": "completed"
    },
    "tags": []
   },
   "outputs": [
    {
     "name": "stdout",
     "output_type": "stream",
     "text": [
      "Setup completo, fim do Titanic\n"
     ]
    }
   ],
   "source": [
    "#Correção do NaN que estão no DataFrame para o RandomForest aaceitar os dados:\n",
    "from sklearn.ensemble import RandomForestClassifier\n",
    "from sklearn.impute import SimpleImputer\n",
    "import pandas as pd\n",
    "\n",
    "# 1. Preparar os dados\n",
    "X_full = pd.get_dummies(train_data.drop(columns=['PassengerId', 'Survived']))\n",
    "y_full = train_data['Survived']\n",
    "\n",
    "X_test = pd.get_dummies(test_data.drop(columns=['PassengerId']))\n",
    "X_full, X_test = X_full.align(X_test, join='left', axis=1, fill_value=0)\n",
    "\n",
    "# 2. Imputar valores ausentes após o alinhamento\n",
    "imputer = SimpleImputer(strategy='mean')\n",
    "X_full = imputer.fit_transform(X_full)\n",
    "X_test = imputer.transform(X_test)\n",
    "\n",
    "# 3. Treinar o modelo\n",
    "final_model = RandomForestClassifier(n_estimators=200, random_state=42)\n",
    "final_model.fit(X_full, y_full)\n",
    "\n",
    "# 4. Fazer predições\n",
    "predictions = final_model.predict(X_test)\n",
    "\n",
    "# 5. Criar DataFrame de submissão\n",
    "submission = pd.DataFrame({\n",
    "    'PassengerId': test_data['PassengerId'],\n",
    "    'Survived': predictions\n",
    "})\n",
    "\n",
    "# 6. Salvar como CSV\n",
    "submission.to_csv('submission.csv', index=False)\n",
    "\n",
    "print('Setup completo, fim do Titanic')"
   ]
  },
  {
   "cell_type": "markdown",
   "id": "9c5b92a6",
   "metadata": {
    "papermill": {
     "duration": 0.012453,
     "end_time": "2025-08-21T02:14:27.878062",
     "exception": false,
     "start_time": "2025-08-21T02:14:27.865609",
     "status": "completed"
    },
    "tags": []
   },
   "source": [
    "X_full = pd.get_dummies(train_data.drop(columns=['PassengerId', 'Survived']))\n",
    "y_full = train_data['Survived']\n",
    "\n",
    "X_test = pd.get_dummies(test_data.drop(columns=['PassengerId']))\n",
    "X_full, X_test = X_full.align(X_test, join='left', axis=1, fill_value=0)\n",
    "- drop(columns=['PassengerId', 'Survived']): remove colunas irrelevantes para o modelo (PassengerId) e a variável alvo (Survived) do conjunto de treino.\n",
    "- pd.get_dummies(): transforma variáveis categóricas em numéricas via one-hot encoding.\n",
    "- align(): garante que X_full e X_test tenham as mesmas colunas, preenchendo com 0 onde necessário. Isso evita erros na hora de fazer previsões.\n",
    "\n",
    "imputer = SimpleImputer(strategy='mean')\n",
    "X_full = imputer.fit_transform(X_full)\n",
    "X_test = imputer.transform(X_test)\n",
    "- Cria um imputador que substitui valores ausentes (NaN) pela média da coluna.\n",
    "- fit_transform() aplica isso ao conjunto de treino.\n",
    "- transform() aplica a mesma lógica ao conjunto de teste, garantindo consistência.\n",
    "\n",
    "final_model = RandomForestClassifier(n_estimators=200, random_state=42)\n",
    "final_model.fit(X_full, y_full)\n",
    "- Cria um modelo de Random Forest com 200 árvores.\n",
    "- random_state=42 garante que os resultados sejam reprodutíveis.\n",
    "- fit() treina o modelo com os dados preparados.\n",
    "\n",
    "predictions = final_model.predict(X_test)\n",
    "- Usa o modelo treinado para prever a sobrevivência dos passageiros no conjunto de teste.\n",
    "\n",
    "submission = pd.DataFrame({\n",
    "    'PassengerId': test_data['PassengerId'],\n",
    "    'Survived': predictions\n",
    "})\n",
    "- Cria um novo DataFrame com os IDs dos passageiros e suas respectivas previsões (Survived).\n",
    "- Esse formato é exigido para submissão no Kaggle.\n",
    "\n",
    "submission.to_csv('submission.csv', index=False)\n",
    "- Salva o DataFrame como um arquivo CSV, pronto para ser enviado ao Kaggle.\n",
    "- index=False evita que o índice do DataFrame seja incluído no arquivo.\n",
    "\n"
   ]
  }
 ],
 "metadata": {
  "kaggle": {
   "accelerator": "none",
   "dataSources": [
    {
     "datasetId": 7988620,
     "sourceId": 12641889,
     "sourceType": "datasetVersion"
    }
   ],
   "dockerImageVersionId": 31089,
   "isGpuEnabled": false,
   "isInternetEnabled": false,
   "language": "python",
   "sourceType": "notebook"
  },
  "kernelspec": {
   "display_name": "Python 3",
   "language": "python",
   "name": "python3"
  },
  "language_info": {
   "codemirror_mode": {
    "name": "ipython",
    "version": 3
   },
   "file_extension": ".py",
   "mimetype": "text/x-python",
   "name": "python",
   "nbconvert_exporter": "python",
   "pygments_lexer": "ipython3",
   "version": "3.11.13"
  },
  "papermill": {
   "default_parameters": {},
   "duration": 17.48564,
   "end_time": "2025-08-21T02:14:28.612869",
   "environment_variables": {},
   "exception": null,
   "input_path": "__notebook__.ipynb",
   "output_path": "__notebook__.ipynb",
   "parameters": {},
   "start_time": "2025-08-21T02:14:11.127229",
   "version": "2.6.0"
  }
 },
 "nbformat": 4,
 "nbformat_minor": 5
}
