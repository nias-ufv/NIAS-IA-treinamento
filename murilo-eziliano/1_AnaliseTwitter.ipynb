{
 "cells": [
  {
   "cell_type": "markdown",
   "id": "6841b1b0",
   "metadata": {},
   "source": [
    "# 1. Exercício Análise de Sentimentos no Twitter\n",
    "\n",
    "O objetivo da atividade ´e identificar, em uma lista de mensagens, aquelas que expressam\n",
    "sentimentos positivos (felizes) ou negativos (tristes), com base na presen¸ca de palavras-chave.\n",
    "A seguir, ´e apresentada a lista de tweets que ser´a analisada:"
   ]
  },
  {
   "cell_type": "code",
   "execution_count": 3,
   "id": "deae5117",
   "metadata": {},
   "outputs": [],
   "source": [
    "tweets = [\n",
    "\"Wow, what a great day today!! #sunshine\",\n",
    "\"I feel sad about the things going on around us. #covid19\",\n",
    "\"I'm really excited to learn Python with @JovianML #zerotopandas\",\n",
    "\"This is a really nice song. #linkinpark\",\n",
    "\"The Python programming language is useful for data science\",\n",
    "\"Why do bad things happen to me?\",\n",
    "\"Apple announces the release of the new iPhone 12. Fans are excited.\",\n",
    "\"Spent my day with family!! #happy\",\n",
    "\"Check out my blog post on common string operations in Python. #zerotopandas\",\n",
    "\"Freecodecamp has great coding tutorials. #skillup\"\n",
    "]"
   ]
  },
  {
   "cell_type": "code",
   "execution_count": 4,
   "id": "21536eb7",
   "metadata": {},
   "outputs": [
    {
     "data": {
      "text/plain": [
       "10"
      ]
     },
     "execution_count": 4,
     "metadata": {},
     "output_type": "execute_result"
    }
   ],
   "source": [
    "#1. Determine quantos tweets existem na lista apresentada\n",
    "\n",
    "len(tweets)"
   ]
  },
  {
   "cell_type": "code",
   "execution_count": 5,
   "id": "be1bfc41",
   "metadata": {},
   "outputs": [],
   "source": [
    "#2. Considere as listas de palavras abaixo, que identificam sentimentos felizes e tristes, respectivamente. Utilize o primeiro tweet como amostra e classifique-o como positivo ou negativo com base na presença dessas palavras.\n",
    "\n",
    "happy_words = ['great', 'excited', 'happy', 'nice', 'wonderful',\n",
    "'amazing', 'good', 'best']\n",
    "sad_words = ['sad', 'bad', 'tragic', 'unhappy', 'worst']"
   ]
  },
  {
   "cell_type": "markdown",
   "id": "93bebb71",
   "metadata": {},
   "source": [
    "• Dicas:\n",
    "* Utilize uma variável booleana inicializada como False (por exemplo, is happy =\n",
    "False) e altere seu valor para True caso alguma palavra feliz seja identificada.\n",
    "* Para percorrer o conteúdo do tweet, use um laçoo de repetição e o operador in, úttil para verificar se uma determinada substring está presente em um texto."
   ]
  },
  {
   "cell_type": "code",
   "execution_count": 6,
   "id": "ad362efe",
   "metadata": {},
   "outputs": [
    {
     "name": "stdout",
     "output_type": "stream",
     "text": [
      "True\n"
     ]
    }
   ],
   "source": [
    "is_happy = False\n",
    "for word in happy_words:\n",
    "    if word in tweets[0]:\n",
    "        is_happy = True\n",
    "print(is_happy)"
   ]
  },
  {
   "cell_type": "markdown",
   "id": "f0823ccc",
   "metadata": {},
   "source": [
    "3. A partir da lógica construída no item anterior, elabore um código que percorra todos os tweets da lista e contabilize a quantidade de mensagens felizes e tristes. Exiba os resultados ao final, acompanhados de mensagens explicativas. <br>\n",
    "• Dica: Será necessário utilizar laços aninhados para verificar, em cada tweet, a ocorrência de palavras de ambas as listas."
   ]
  },
  {
   "cell_type": "code",
   "execution_count": 7,
   "id": "bd611822",
   "metadata": {},
   "outputs": [
    {
     "name": "stdout",
     "output_type": "stream",
     "text": [
      "great True\n",
      "excited True\n",
      "happy True\n",
      "nice True\n",
      "wonderful False\n",
      "amazing False\n",
      "good False\n",
      "best False\n",
      "sad True\n",
      "bad True\n",
      "tragic False\n",
      "unhappy False\n",
      "worst False\n",
      "[] []\n",
      "Happy tweets:\n",
      "- Wow, what a great day today!! #sunshine\n",
      "- I'm really excited to learn Python with @JovianML #zerotopandas\n",
      "- This is a really nice song. #linkinpark\n",
      "- Apple announces the release of the new iPhone 12. Fans are excited.\n",
      "- Spent my day with family!! #happy\n",
      "- Freecodecamp has great coding tutorials. #skillup\n",
      "\n",
      "Sad tweets:\n",
      "- I feel sad about the things going on around us. #covid19\n",
      "- Why do bad things happen to me?\n",
      "\n",
      "Total number of happy tweets: 6\n",
      "Total number of sad tweets: 2\n"
     ]
    }
   ],
   "source": [
    "for word in happy_words:\n",
    "    is_happy = False\n",
    "    for sentence in tweets:\n",
    "        if word in sentence:\n",
    "            is_happy = True\n",
    "    print(word, is_happy)\n",
    "for word in sad_words:\n",
    "    is_sad = False\n",
    "    for sentence in tweets:\n",
    "        if word in sentence:\n",
    "            is_sad = True\n",
    "    print(word, is_sad)\n",
    "\n",
    "is_happy, is_sad = [], []\n",
    "for sentence in tweets:\n",
    "    if sentence in happy_words:\n",
    "      print(word)\n",
    "      is_happy.append(word)\n",
    "    if word in sentence in sad_words:\n",
    "      is_sad.append(word)\n",
    "print(is_happy, is_sad)\n",
    "\n",
    "\n",
    "\n",
    "happy_tweets_list = []\n",
    "sad_tweets_list = []\n",
    "\n",
    "for tweet in tweets:\n",
    "    is_happy_tweet = False\n",
    "    is_sad_tweet = False\n",
    "    for word in happy_words:\n",
    "        if word in tweet.lower():\n",
    "            is_happy_tweet = True\n",
    "            break\n",
    "    for word in sad_words:\n",
    "        if word in tweet.lower():\n",
    "            is_sad_tweet = True\n",
    "            break\n",
    "\n",
    "    if is_happy_tweet and not is_sad_tweet:\n",
    "        happy_tweets_list.append(tweet)\n",
    "    elif is_sad_tweet and not is_happy_tweet:\n",
    "        sad_tweets_list.append(tweet)\n",
    "\n",
    "print(\"Happy tweets:\")\n",
    "for tweet in happy_tweets_list:\n",
    "    print(f\"- {tweet}\")\n",
    "\n",
    "print(\"\\nSad tweets:\")\n",
    "for tweet in sad_tweets_list:\n",
    "    print(f\"- {tweet}\")\n",
    "\n",
    "print(f\"\\nTotal number of happy tweets: {len(happy_tweets_list)}\")\n",
    "print(f\"Total number of sad tweets: {len(sad_tweets_list)}\")\n"
   ]
  },
  {
   "cell_type": "code",
   "execution_count": null,
   "id": "b0ea9b31",
   "metadata": {},
   "outputs": [],
   "source": []
  }
 ],
 "metadata": {
  "kernelspec": {
   "display_name": "nias",
   "language": "python",
   "name": "python3"
  },
  "language_info": {
   "codemirror_mode": {
    "name": "ipython",
    "version": 3
   },
   "file_extension": ".py",
   "mimetype": "text/x-python",
   "name": "python",
   "nbconvert_exporter": "python",
   "pygments_lexer": "ipython3",
   "version": "3.10.18"
  }
 },
 "nbformat": 4,
 "nbformat_minor": 5
}
